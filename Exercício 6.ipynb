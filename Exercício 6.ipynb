{
 "cells": [
  {
   "cell_type": "markdown",
   "metadata": {},
   "source": [
    "## Exercicio 6 - Franklin\n",
    "\n",
    "#### Considere o problema\n",
    "$$\\begin{aligned} \\min_x \\qquad & f(x) \\\\ \\text{suj. a} \\qquad & c(x) = 0, \\end{aligned} $$\n",
    "#### com $f: \\mathbb{R}^n \\to \\mathbb{R}$ e $c: \\mathbb{R}^n \\to \\mathbb{R}^m$, e considere aproximações $x_k, y_k$ para a solução $x^*$ e o multiplicador $y^*$ associado às condições de otimalidade\n",
    "$$\\nabla f(x^*) + J(x^*)^T y^* = 0$$\n",
    "e\n",
    "$$ c(x^*) = 0.$$\n",
    "\n",
    "#### O problema com regularização primal-dual associado a esse problema é dado por\n",
    "$$\\begin{aligned} \\min{x,u} \\qquad & f(x) + \\rho_k \\tfrac{1}{2} \\Vert x - x_k \\Vert^2 + \\delta_k \\tfrac{1}{2} \\Vert u - y_k \\Vert^2 \\\\ \\text{suj. a} \\qquad & c(x) + \\delta_k u = 0, \\end{aligned} $$\n",
    "#### onde $\\rho_k \\geq 0$ e $\\delta_k > 0$ são valores escolhidos de maneira a garantir algumas condições que veremos em breve.\n",
    "\n",
    "#### 1. Escreva as condições de otimalidade desse problema em função de $x$, $y$ e $u$.\n"
   ]
  },
  {
   "cell_type": "markdown",
   "metadata": {},
   "source": [
    "  \n",
    "  \n",
    "  \n",
    "A função Lagrangiana do problema é dada por:\n",
    "$$L(x,u) = f(x) + \\rho_k \\dfrac{1}{2}\\Vert x - x_k\\Vert^2 +\n",
    "                  \\delta_k \\dfrac{1}{2}\\Vert u - y_k\\Vert^2 +\n",
    "                  y^T(c(x) + \\delta_k u) $$\n",
    "                  \n",
    "Assim, fazendo $\\nabla L(x,y,u) = 0$, tem-se:\n",
    "$$\\nabla L(x,y,u) = \\begin{bmatrix} \\nabla_x L(x,y,u) \\\\\\nabla_y L(x,y,u) \\\\ \\nabla_u L(x,y,u)\\end{bmatrix} = \\begin{bmatrix} \\nabla f(x) +\\rho_k(x-x_k) + J(x)^T y \\\\ c(x) + \\delta_k u \\\\ \\delta_k (u-y_k) + \\delta_k y\\end{bmatrix} = 0$$\n"
   ]
  },
  {
   "cell_type": "markdown",
   "metadata": {},
   "source": [
    "#### 2. Verifique que isolando e substituindo/removendo $u$ das condições de otimalidade obtemos a condição $G_k(x, y) = 0$ onde\n",
    "$$ G_k(x,y) = \\begin{bmatrix} \\nabla f(x) + J(x)^T y + \\rho_k (x - x_k) \\\\ c(x) - \\delta_k (y - y_k) \\end{bmatrix}. $$"
   ]
  },
  {
   "cell_type": "markdown",
   "metadata": {},
   "source": [
    "De fato: tomando  \n",
    "$$\\delta_k (u-y_k) + \\delta_k y = 0 \\qquad \\Rightarrow \\qquad \n",
    "\\delta_k u - \\delta_k y_k + \\delta_k y = 0 \\qquad \\Rightarrow \\qquad \n",
    "\\delta_k u = -\\delta_k(y-y_k)$$  \n",
    "e substituindo em $$c(x) + \\delta_k u \\qquad \\Rightarrow \\qquad  c(x) -\\delta_k(y-y_k)$$  \n",
    "temos o resultado."
   ]
  },
  {
   "cell_type": "markdown",
   "metadata": {},
   "source": [
    "#### Um passo tipo Newton para $G_k(x,y) = 0$ é dado pelo sistema\n",
    "$$ \\begin{bmatrix} H_k + \\rho_k I & A_k^T \\\\ A_k & -\\delta_k I \\end{bmatrix} \\begin{bmatrix} \\Delta x \\\\ \\Delta y \\end{bmatrix} = -\\begin{bmatrix} g_k + A_k^T y_k \\\\ c_k \\end{bmatrix}, $$\n",
    "#### onde $c_k = c(x_k)$, $g_k = \\nabla f(x_k)$, $A_k = J(x_k)$, e $H_k$ é uma aproximação para a Hessiana de $f(x) + c(x)^T y$ (ou a própria Hessiana).\n",
    "\n",
    "#### 3. Mostre que independente da $H_k$ e da $A_k$, é sempre possível escolher valores de $\\rho_k$ e $\\delta_k$ tais que $\\Delta x$ é direção de descida para a função de mérito\n",
    "$$ \\phi_k(x) = f(x) + y_k^T c(x) + \\tfrac{1}{2} \\delta_k^{-1} \\Vert c(x)\\Vert^2. $$"
   ]
  },
  {
   "cell_type": "markdown",
   "metadata": {},
   "source": [
    "Do da segunda equação do passo tipo de Newton, temos:\n",
    "$$A_k \\Delta x - \\delta_k I \\Delta y = -c_k$$\n",
    "\n",
    "isolando $\\Delta y$ \n",
    "$$ \\Delta y = \\dfrac{c_k}{\\delta_k} + \\dfrac{A_k \\Delta x}{\\delta_k}$$\n",
    "\n",
    "Como $\\dfrac{A_k \\Delta x}{\\delta_k} \\rightarrow 0$, substituindo na primeira equação:\n",
    "\n",
    "$$(H_k +\\rho_k I)\\Delta x + A^T_k \\Delta y = -g_k - A^T_k y_k$$\n",
    "\n",
    "$$(H_k +\\rho_k I)\\Delta x + A^T_k \\dfrac{c_k}{\\delta_k} = -g_k - A^T_k y_k$$\n",
    "\n",
    "Note que $H_k + \\rho_k I$ admite inversa pois $H_k$ é simétrica, então basta assumir $\\delta_k$ suficientemente grande. Assim temos, isolando $\\Delta x$:\n",
    "\n",
    "$$ \\Delta x = (H_k + \\rho_k I)^{-1}(-g_k - A^T_k (y_k +\\dfrac{c_k}{\\delta_k}))$$\n",
    "\n",
    "\n",
    "Para mostrar que $\\Delta x$ é direção de descida de $\\phi_k(x)$, vamos mostrar que $\\phi_k(x) \\Delta x < 0$.\n"
   ]
  },
  {
   "cell_type": "markdown",
   "metadata": {},
   "source": [
    "Para $\\delta_k > 0$ e $\\rho_k \\geq 0$, derivando $\\phi_k(x)$ temos:\n",
    "\n",
    "$$\\nabla \\phi_k(x) = \\nabla f(x) + J(x)^T y + J(x)^T \\dfrac{c_k}{\\delta_k}= g_k + A^T_k (y_k + \\dfrac{c_k}{\\delta_k})$$\n",
    "\n",
    "logo:\n",
    "\n",
    "$$\\nabla \\phi_k(x) \\Delta x = $$\n",
    "\n",
    "$$ = [g_k + A^T_k (y_k + \\dfrac{c_k}{\\delta_k})]^T (H_k + \\rho_k I)^{-1}[-g_k - A^T_k ( y_k + \\dfrac{c_k}{\\delta_k})] = $$\n",
    "\n",
    "$$ = -[g_k + A^T_k (y_k + \\dfrac{c_k}{\\delta_k})]^T (H_k + \\rho_k I)^{-1}[g_k + A^T_k (y_k + \\dfrac{c_k}{\\delta_k})] = $$\n",
    "\n",
    "$$ = - \\Vert g_k + A^T_k (y_k + \\dfrac{c_k}{\\delta_k})\\Vert^2 (H_k + \\rho_k I)^{-1} \\leq 0 $$\n",
    "\n",
    "\n"
   ]
  },
  {
   "cell_type": "markdown",
   "metadata": {},
   "source": [
    "Escolhendo $g_k + A^T_k (y_k + \\dfrac{c_k}{\\delta_k}) \\neq 0$ temos que $\\phi_k(x) \\Delta x < 0$."
   ]
  },
  {
   "cell_type": "markdown",
   "metadata": {},
   "source": [
    "#### 4. Uma estratégia para resolver este problema é escrevê-lo como um problema de quadrados mínimos! Embora não seja óbvio a priori, com a ajuda do exercício 4, escreva o cálculo do passo de Newton como um problema de quadrados mínimos com regularização. Para simplificar, assuma que $\\rho_k = 0$ e $H_k$ é definida positiva. Algumas dicas: escreva $\\Delta y = \\overline{\\Delta y} + \\gamma$ onde $\\gamma$ é escolhido de maneira a zerar uma certa parte do vetor do lado direito. Com o sistema resultante, identifique-o com um problema de quadrados mínimos regularizado na variável $\\overline{\\Delta y}$."
   ]
  },
  {
   "cell_type": "markdown",
   "metadata": {},
   "source": [
    "Considere $\\Delta y = \\bar{\\Delta}y + \\gamma$. Assim o sistema \n",
    "\n",
    "$$ \\begin{bmatrix} H_k  & A_k^T \\\\ A_k & -\\delta_k I \\end{bmatrix} \\begin{bmatrix} \\Delta x \\\\ \\bar{\\Delta} y + \\gamma \\end{bmatrix} = -\\begin{bmatrix} g_k + A_k^T y_k \\\\ c_k \\end{bmatrix}, $$\n",
    "\n",
    "pode ser escrito como: \n",
    "\n",
    "$$\\begin{cases}\n",
    "H_k \\Delta x + A^T_k (\\bar{\\Delta} y + \\gamma) = -g_k - A^T_k y_k\\\\\n",
    "A_k \\Delta x - \\delta_k (\\bar{\\Delta} y + \\gamma) = -c_k\n",
    "\\end{cases}$$\n",
    "\n",
    "ou, \n",
    "$$\\begin{cases}\n",
    "H_k \\Delta x + A^T_k \\bar{\\Delta} y + A^T_k \\gamma = -g_k - A^T_k y_k\\\\\n",
    "A_k \\Delta x - \\delta_k \\bar{\\Delta} y - \\delta_k \\gamma = -c_k\n",
    "\\end{cases}$$\n",
    "\n",
    "Assim, \n",
    "\n",
    "$$\\begin{cases}\n",
    "H_k \\Delta x + A^T_k \\bar{\\Delta} y = -[g_k + A^T_k (y_k + \\gamma)]\\\\\n",
    "A_k \\Delta x - \\delta_k \\bar{\\Delta} y = -[c_k - \\delta_k \\gamma]\n",
    "\\end{cases}$$\n",
    "\n",
    "$$$$"
   ]
  },
  {
   "cell_type": "markdown",
   "metadata": {},
   "source": [
    "Fazendo $c_k - \\delta_k \\gamma = 0$ ou seja $\\gamma = c_k / \\delta_k$\n",
    "\n",
    "$$\\begin{cases}\n",
    "H_k \\Delta x + A^T_k \\bar{\\Delta} y = -[g_k + A^T_k (y_k + c_k / \\delta_k)]\\\\\n",
    "A_k \\Delta x - \\delta_k \\bar{\\Delta} y = -[c_k - \\delta_k c_k / \\delta_k] = 0\n",
    "\\end{cases}$$\n",
    "\n",
    "Assim, podemos escrever:\n",
    "\n",
    "$$ \\begin{bmatrix} H_k  & A_k^T \\\\ A_k & -\\delta_k I \\end{bmatrix} \\begin{bmatrix} \\Delta x \\\\ \\bar{\\Delta} y \\end{bmatrix} = -\\begin{bmatrix} g_k + A^T_k (y_k + c_k / \\delta_k) \\\\ 0 \\end{bmatrix}, $$"
   ]
  },
  {
   "cell_type": "markdown",
   "metadata": {},
   "source": [
    "Que corresponde ao problema de mínimos quadrados regularizado na variável $\\bar{\\Delta} y$:\n"
   ]
  },
  {
   "cell_type": "markdown",
   "metadata": {},
   "source": [
    "$$\\begin{aligned}\n",
    "\\min_{\\Delta x, \\bar{\\Delta}y} \\qquad & \\tfrac{1}{2} \\Vert \\Delta x \\Vert^2_{H_k} + \\tfrac{1}{2} \\Vert \\bar{\\Delta} y \\Vert^2_{\\delta_k I} \\\\\n",
    "\\text{suj. a} \\qquad & A_k \\Delta x - \\delta_k \\bar{\\Delta} y = 0,  \n",
    "\\end{aligned}$$ "
   ]
  },
  {
   "cell_type": "markdown",
   "metadata": {},
   "source": []
  }
 ],
 "metadata": {
  "@webio": {
   "lastCommId": null,
   "lastKernelId": null
  },
  "kernelspec": {
   "display_name": "Julia 1.4.1",
   "language": "julia",
   "name": "julia-1.4"
  },
  "language_info": {
   "file_extension": ".jl",
   "mimetype": "application/julia",
   "name": "julia",
   "version": "1.4.1"
  }
 },
 "nbformat": 4,
 "nbformat_minor": 4
}
