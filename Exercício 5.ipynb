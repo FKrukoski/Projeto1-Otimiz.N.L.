{
 "cells": [
  {
   "cell_type": "markdown",
   "metadata": {},
   "source": [
    "# Exercicio 5 - Franklin\n",
    "\n",
    "Considere o problema\n",
    "$$ \\min f(x) \\qquad \\text{suj. a} \\qquad Ax \\geq b $$\n",
    "O método de Restrições ativas para este problema consiste em começar de um ponto $x_0$ factível, definir um conjunto de trabalho $\\mathcal{W} = \\mathcal{A}(x_0)$, e atualizar os pontos e o conjunto da forma abaixo.\n",
    "Usaremos as notações\n",
    "\n",
    "a. $\\bar{A} = [a_i^T]_{i \\in \\mathcal{W}}$, onde $a_i$ é a i-ésima linha de $A$.  \n",
    "b. $\\bar{b} = [b_i]_{i \\in \\mathcal{W}}$.\n",
    "\n",
    "1. Calcule\n",
    "$$\\bar{\\lambda} = \\arg\\min \\tfrac{1}{2} \\Vert \\nabla f(x_k) - \\bar{A}^T \\lambda \\Vert^2. $$\n",
    "2. Se $\\nabla f(x_k) = \\bar{A}^T \\bar{\\lambda}$, então verifique se $\\lambda \\geq 0$. Se SIM, então FIM. Se NÃO, então escolha um $i$ tal que $\\lambda_i < 0$ e remova $i$ de $\\mathcal{W}$, e volte ao item anterior.\n",
    "3. Calcule um passo de Newton para o problema  \n",
    "\n",
    "$$\\begin{aligned}\n",
    "\\min \\qquad & \\tfrac{1}{2} \\Delta x^T \\nabla^2 f(x_k) \\Delta x + \\Delta x^T (\\nabla f(x_k) - \\bar{A}^T \\bar{\\lambda}) \\\\\n",
    "\\text{suj. a} \\qquad & \\bar{A} (x + \\Delta x) = b,  \n",
    "\\end{aligned}$$ \n",
    "\n",
    "isto é,\n",
    "$$\\begin{bmatrix} \\nabla^2 f(x_k) & -\\bar{A}^T \\\\ \\bar{A} & 0 \\end{bmatrix} \\begin{bmatrix} \\Delta x \\\\ \\Delta \\lambda \\end{bmatrix} = \\begin{bmatrix} \\bar{A}^T \\bar{\\lambda} - \\nabla f(x_k) \\\\ \\bar{b} - \\bar{A} x_k \\end{bmatrix}.$$\n",
    "\n",
    "Calcule o maior $\\alpha \\leq 1$ tal que $A(x_k + \\alpha \\Delta x) \\geq b$.\n",
    "Atualize $x_{k+1} = x_k + \\alpha \\Delta x$.\n",
    "Se alguma restrição passou a ser ativa, adicione-a ao conjunto $\\mathcal{W}$.\n"
   ]
  },
  {
   "cell_type": "markdown",
   "metadata": {},
   "source": [
    "## Q1. \n",
    "#### Mostre que se $\\nabla^2 f(x_k)$ é DEFINIDA POSITIVA e $\\bar{A}$ tem posto LINHA completo (colunas linearmente independentes), então a matriz do sistema de Newton é não singular.\n",
    "#### Máquina de Vetores Suporte é uma técnica de classificação para conjuntos do tipo $\\{(x_i, y_i), i = 1,\\dots,n\\} \\subset \\mathbb{R}^p\\times \\{-1,1\\}$, isto é, pontos $x_i$ classificados como $-1$ ou $1$.\n",
    "#### A técnica consiste em resolver o problema\n",
    "#### $$ \\min_{w,\\alpha} \\tfrac{1}{2}\\Vert w\\Vert^2 \\qquad \\text{suj. a} \\qquad y_i (w^T x_i + \\alpha) \\geq 1, \\ i = 1,\\dots, n$$\n",
    "#### com $w \\in \\mathbb{R}^p$ e $\\alpha \\in \\mathbb{R}$. Note que o problema é quadrático com restrições lineares, porque as variáveis são $w$ e $\\alpha$.\n",
    "#### A solução do problema  define um hiperplano dado por $w^T x + \\alpha = 0$ que separa os conjuntos de dado (se possível) deixando a maior margem entre eles.  \n"
   ]
  },
  {
   "cell_type": "markdown",
   "metadata": {},
   "source": [
    "Por hipótese: $\\nabla^2 f(x_k)$ é não singular e $\\bar{A}$ tem posto coluna completo,\n",
    "deve-se que mostrar que $\\begin{bmatrix} \\nabla^2 f(x_k) & -\\bar{A}^T \\\\ \\bar{A} & 0 \\end{bmatrix}$ é não singular.\n"
   ]
  },
  {
   "cell_type": "markdown",
   "metadata": {},
   "source": [
    "Considere $M = \\begin{bmatrix} \\nabla^2 f(x_k) & -\\bar{A}^T \\\\ \\bar{A} & 0 \\end{bmatrix}$. Para provar que M é não singular deve-se mostrar seu núcleo contém apenas o vetor nulo. Então, seja $v = \\begin{bmatrix} X \\\\ Y \\end{bmatrix}$, $X \\in \\mathbb{R}^{n x 1}$ e $Y \\in \\mathbb{R}^{m x 1}$, devemos mostrar que para $M.v = 0 \\iff v = 0$,  "
   ]
  },
  {
   "cell_type": "markdown",
   "metadata": {},
   "source": [
    "$(\\Leftarrow)$ é imediato."
   ]
  },
  {
   "cell_type": "markdown",
   "metadata": {},
   "source": [
    "$(\\Rightarrow)$  \n",
    "Seja $M.v = 0$, então: $\\begin{bmatrix} \\nabla^2 f(x_k) & -\\bar{A}^T \\\\ \\bar{A} & 0 \\end{bmatrix} . \\begin{bmatrix} X \\\\ Y \\end{bmatrix} = \\begin{bmatrix} 0 \\\\ 0 \\end{bmatrix}$, que resulta no seguinte sistema de equações:"
   ]
  },
  {
   "cell_type": "markdown",
   "metadata": {},
   "source": [
    "$$\\begin{cases}\n",
    "\\nabla^2 f(x_k) X  -\\bar{A}^T Y = 0\\\\\n",
    "\\bar{A}.X = 0\n",
    "\\end{cases}$$"
   ]
  },
  {
   "cell_type": "markdown",
   "metadata": {},
   "source": [
    "A partir de $\\bar{A}X = 0$, para qualquer $Y^T \\in \\mathbb{R}^{1 x m}$ tem-se:  $$\\bar{A}X=0 \\Rightarrow Y^T\\bar{A}X = 0 \\Rightarrow X^T\\bar{A}^TY = 0$$"
   ]
  },
  {
   "cell_type": "markdown",
   "metadata": {},
   "source": [
    "Multiplicando $\\nabla^2 f(x_k) X  -\\bar{A}^T Y = 0$ por $X^T$, tem-se:  \n",
    "$$X^T \\nabla^2 f(x_k) X  -X^T\\bar{A}^T Y = X^T 0$$  \n",
    "e portanto,\n",
    "$$X^T \\nabla^2 f(x_k) X = 0$$ pois $X^T\\bar{A}^T Y = 0$ e $X^T 0 = 0$  \n"
   ]
  },
  {
   "cell_type": "markdown",
   "metadata": {},
   "source": [
    "Como por Hipótese $\\nabla^2f(x_k)$ é definida positiva,  $$X^T \\nabla^2 f(x_k) X = 0 \\Rightarrow X = 0$$"
   ]
  },
  {
   "cell_type": "markdown",
   "metadata": {},
   "source": [
    "Então, $\\nabla^2 f(x_k) X  -\\bar{A}^T Y = 0 \\Rightarrow \\bar{A}^TY = 0$. Como por Hipótese $\\bar{A}$ tem posto linha completo, $\\bar{A}^T$ tem posto coluna completo. Logo $\\bar{A}^T Y = 0 \\Rightarrow Y = 0$."
   ]
  },
  {
   "cell_type": "markdown",
   "metadata": {},
   "source": [
    "Assim $M.v = 0 \\iff v = \\begin{bmatrix} 0 \\\\ 0 \\end{bmatrix}$ e, portanto, M é não singular."
   ]
  },
  {
   "cell_type": "markdown",
   "metadata": {},
   "source": [
    "## Q2. \n",
    "#### Mostre que se $w^T x + \\alpha = 0$ é um hiperplano que separa os dois conjuntos estritamente, então existem $\\bar{w}$ e $\\bar{\\alpha}$ que satisfazem as restrições do problema de Máquina de Vetores Suporte.   \n"
   ]
  },
  {
   "cell_type": "markdown",
   "metadata": {},
   "source": [
    "Tem-se: $$\\min_{w, \\alpha} \\frac{1}{2}\\Vert w \\Vert ^2 \\qquad \\text{suj. a} \\quad y_i(w^Tx_i + \\alpha)\\geq 1, \\quad i = 1, ..., n.$$  \n",
    "Se $w^Tx+\\alpha = 0$ separa estritamente os conjuntos de pontos $\\Omega_{-}$ e $\\Omega_{+}$ então $$y_i(w^Tx_i+\\alpha)>0 \\qquad \\forall i = 1, ..., n \\qquad \\text{ e} \\quad y_i = \\begin{cases} \\hspace{0.3 cm}1 \\qquad \\forall x_i \\in \\Omega_{+} \\\\ -1 \\qquad \\forall x_i \\in \\Omega_{-}\\end{cases}$$"
   ]
  },
  {
   "cell_type": "markdown",
   "metadata": {},
   "source": [
    "A distância do hiperplano ao ponto $x_0$ mais próximo é dado por $\\dfrac{\\vert w^Tx_0 + \\alpha \\vert}{\\Vert w \\Vert}$ e assim, cada ponto $x_i$ satisfaz:"
   ]
  },
  {
   "cell_type": "markdown",
   "metadata": {},
   "source": [
    "$$y_i(w^Tx_i+\\alpha) \\geq \\dfrac{\\vert w^Tx_0 + \\alpha \\vert}{\\Vert w \\Vert}$$"
   ]
  },
  {
   "cell_type": "markdown",
   "metadata": {},
   "source": [
    "$$y_i(w^Tx_i+\\alpha) \\dfrac{\\Vert w \\Vert}{\\vert w^Tx_0 + \\alpha \\vert} \\geq 1$$"
   ]
  },
  {
   "cell_type": "markdown",
   "metadata": {},
   "source": [
    "que pode ser escrito:"
   ]
  },
  {
   "cell_type": "markdown",
   "metadata": {},
   "source": [
    "$$y_i(w^T \\dfrac{\\Vert w \\Vert}{\\vert w^Tx_0 + \\alpha \\vert}x_i +\\alpha \\dfrac{\\Vert w \\Vert}{\\vert w^Tx_0 + \\alpha \\vert}) \\geq 1$$"
   ]
  },
  {
   "cell_type": "markdown",
   "metadata": {},
   "source": [
    "fazendo: $\\bar{w}^T = w^T \\dfrac{\\Vert w \\Vert}{\\vert w^Tx_0 + \\alpha \\vert}x_i$ e $\\bar{\\alpha} = \\alpha \\dfrac{\\Vert w \\Vert}{\\vert w^Tx_0 + \\alpha \\vert}$, tem-se: "
   ]
  },
  {
   "cell_type": "markdown",
   "metadata": {},
   "source": [
    "$$y_i(\\bar{w}^Tx_i +\\bar{\\alpha}) \\geq 1$$"
   ]
  },
  {
   "cell_type": "markdown",
   "metadata": {},
   "source": [
    "que satisfazem as restrições do problema de MVS."
   ]
  },
  {
   "cell_type": "markdown",
   "metadata": {},
   "source": [
    "## Q3. \n",
    "#### Considere os dados abaixo:\n",
    "$$ \\Omega_- = \\{(0,1)^T, (1,2)^T, (2,1)^T\\}, $$\n",
    "e\n",
    "$$\\Omega_+ = \\{(1,3)^T, (3,3)^T, (4,2)^T\\}$$  \n",
    "\n",
    "#### Resolva o problema de MVS começando do hiperplano $5x_1 + 4x_2 - 15 = 0$ usando o método de restrições ativas na mão. Você pode resolver os sistemas no Julia, mas atente-se a precisão - use aritmética exata.\n"
   ]
  },
  {
   "cell_type": "code",
   "execution_count": 1,
   "metadata": {},
   "outputs": [],
   "source": [
    "using Plots, LinearAlgebra"
   ]
  },
  {
   "cell_type": "code",
   "execution_count": 2,
   "metadata": {},
   "outputs": [
    {
     "data": {
      "text/plain": [
       "Plots.GRBackend()"
      ]
     },
     "execution_count": 2,
     "metadata": {},
     "output_type": "execute_result"
    }
   ],
   "source": [
    "gr(size = (600,400))"
   ]
  },
  {
   "cell_type": "code",
   "execution_count": 3,
   "metadata": {},
   "outputs": [],
   "source": [
    "w = [5, 4];"
   ]
  },
  {
   "cell_type": "code",
   "execution_count": 4,
   "metadata": {},
   "outputs": [],
   "source": [
    "α = -15;"
   ]
  },
  {
   "cell_type": "code",
   "execution_count": 5,
   "metadata": {},
   "outputs": [],
   "source": [
    "wc1 = [w; α];"
   ]
  },
  {
   "cell_type": "code",
   "execution_count": 6,
   "metadata": {},
   "outputs": [],
   "source": [
    "Ω⁺ = [1 3; 3 3; 4 2]\n",
    "Ω⁻ = [0 1; 1 2; 2 1];"
   ]
  },
  {
   "cell_type": "code",
   "execution_count": 7,
   "metadata": {},
   "outputs": [],
   "source": [
    "A1 = [Ω⁺;Ω⁻]';"
   ]
  },
  {
   "cell_type": "code",
   "execution_count": 8,
   "metadata": {},
   "outputs": [
    {
     "data": {
      "image/svg+xml": [
       "<?xml version=\"1.0\" encoding=\"utf-8\"?>\n",
       "<svg xmlns=\"http://www.w3.org/2000/svg\" xmlns:xlink=\"http://www.w3.org/1999/xlink\" width=\"600\" height=\"400\" viewBox=\"0 0 2400 1600\">\n",
       "<defs>\n",
       "  <clipPath id=\"clip470\">\n",
       "    <rect x=\"0\" y=\"0\" width=\"2400\" height=\"1600\"/>\n",
       "  </clipPath>\n",
       "</defs>\n",
       "<path clip-path=\"url(#clip470)\" d=\"\n",
       "M0 1600 L2400 1600 L2400 0 L0 0  Z\n",
       "  \" fill=\"#ffffff\" fill-rule=\"evenodd\" fill-opacity=\"1\"/>\n",
       "<defs>\n",
       "  <clipPath id=\"clip471\">\n",
       "    <rect x=\"480\" y=\"0\" width=\"1681\" height=\"1600\"/>\n",
       "  </clipPath>\n",
       "</defs>\n",
       "<path clip-path=\"url(#clip470)\" d=\"\n",
       "M512.865 1486.45 L1952.07 1486.45 L1952.07 47.2441 L512.865 47.2441  Z\n",
       "  \" fill=\"#ffffff\" fill-rule=\"evenodd\" fill-opacity=\"1\"/>\n",
       "<defs>\n",
       "  <clipPath id=\"clip472\">\n",
       "    <rect x=\"512\" y=\"47\" width=\"1440\" height=\"1440\"/>\n",
       "  </clipPath>\n",
       "</defs>\n",
       "<polyline clip-path=\"url(#clip472)\" style=\"stroke:#000000; stroke-width:2; stroke-opacity:0.1; fill:none\" points=\"\n",
       "  656.785,1486.45 656.785,47.2441 \n",
       "  \"/>\n",
       "<polyline clip-path=\"url(#clip472)\" style=\"stroke:#000000; stroke-width:2; stroke-opacity:0.1; fill:none\" points=\"\n",
       "  944.626,1486.45 944.626,47.2441 \n",
       "  \"/>\n",
       "<polyline clip-path=\"url(#clip472)\" style=\"stroke:#000000; stroke-width:2; stroke-opacity:0.1; fill:none\" points=\"\n",
       "  1232.47,1486.45 1232.47,47.2441 \n",
       "  \"/>\n",
       "<polyline clip-path=\"url(#clip472)\" style=\"stroke:#000000; stroke-width:2; stroke-opacity:0.1; fill:none\" points=\"\n",
       "  1520.31,1486.45 1520.31,47.2441 \n",
       "  \"/>\n",
       "<polyline clip-path=\"url(#clip472)\" style=\"stroke:#000000; stroke-width:2; stroke-opacity:0.1; fill:none\" points=\"\n",
       "  1808.15,1486.45 1808.15,47.2441 \n",
       "  \"/>\n",
       "<polyline clip-path=\"url(#clip470)\" style=\"stroke:#000000; stroke-width:4; stroke-opacity:1; fill:none\" points=\"\n",
       "  512.865,1486.45 1952.07,1486.45 \n",
       "  \"/>\n",
       "<polyline clip-path=\"url(#clip470)\" style=\"stroke:#000000; stroke-width:4; stroke-opacity:1; fill:none\" points=\"\n",
       "  656.785,1486.45 656.785,1469.18 \n",
       "  \"/>\n",
       "<polyline clip-path=\"url(#clip470)\" style=\"stroke:#000000; stroke-width:4; stroke-opacity:1; fill:none\" points=\"\n",
       "  944.626,1486.45 944.626,1469.18 \n",
       "  \"/>\n",
       "<polyline clip-path=\"url(#clip470)\" style=\"stroke:#000000; stroke-width:4; stroke-opacity:1; fill:none\" points=\"\n",
       "  1232.47,1486.45 1232.47,1469.18 \n",
       "  \"/>\n",
       "<polyline clip-path=\"url(#clip470)\" style=\"stroke:#000000; stroke-width:4; stroke-opacity:1; fill:none\" points=\"\n",
       "  1520.31,1486.45 1520.31,1469.18 \n",
       "  \"/>\n",
       "<polyline clip-path=\"url(#clip470)\" style=\"stroke:#000000; stroke-width:4; stroke-opacity:1; fill:none\" points=\"\n",
       "  1808.15,1486.45 1808.15,1469.18 \n",
       "  \"/>\n",
       "<path clip-path=\"url(#clip470)\" d=\"M 0 0 M656.785 1515.64 Q653.174 1515.64 651.345 1519.2 Q649.54 1522.75 649.54 1529.87 Q649.54 1536.98 651.345 1540.55 Q653.174 1544.09 656.785 1544.09 Q660.419 1544.09 662.225 1540.55 Q664.054 1536.98 664.054 1529.87 Q664.054 1522.75 662.225 1519.2 Q660.419 1515.64 656.785 1515.64 M656.785 1511.93 Q662.595 1511.93 665.651 1516.54 Q668.729 1521.12 668.729 1529.87 Q668.729 1538.6 665.651 1543.21 Q662.595 1547.79 656.785 1547.79 Q650.975 1547.79 647.896 1543.21 Q644.841 1538.6 644.841 1529.87 Q644.841 1521.12 647.896 1516.54 Q650.975 1511.93 656.785 1511.93 Z\" fill=\"#000000\" fill-rule=\"evenodd\" fill-opacity=\"1\" /><path clip-path=\"url(#clip470)\" d=\"M 0 0 M935.008 1543.18 L942.647 1543.18 L942.647 1516.82 L934.336 1518.49 L934.336 1514.23 L942.6 1512.56 L947.276 1512.56 L947.276 1543.18 L954.915 1543.18 L954.915 1547.12 L935.008 1547.12 L935.008 1543.18 Z\" fill=\"#000000\" fill-rule=\"evenodd\" fill-opacity=\"1\" /><path clip-path=\"url(#clip470)\" d=\"M 0 0 M1227.12 1543.18 L1243.44 1543.18 L1243.44 1547.12 L1221.49 1547.12 L1221.49 1543.18 Q1224.16 1540.43 1228.74 1535.8 Q1233.35 1531.15 1234.53 1529.81 Q1236.77 1527.28 1237.65 1525.55 Q1238.55 1523.79 1238.55 1522.1 Q1238.55 1519.34 1236.61 1517.61 Q1234.69 1515.87 1231.59 1515.87 Q1229.39 1515.87 1226.93 1516.63 Q1224.5 1517.4 1221.73 1518.95 L1221.73 1514.23 Q1224.55 1513.09 1227 1512.51 Q1229.46 1511.93 1231.49 1511.93 Q1236.86 1511.93 1240.06 1514.62 Q1243.25 1517.31 1243.25 1521.8 Q1243.25 1523.93 1242.44 1525.85 Q1241.66 1527.74 1239.55 1530.34 Q1238.97 1531.01 1235.87 1534.23 Q1232.77 1537.42 1227.12 1543.18 Z\" fill=\"#000000\" fill-rule=\"evenodd\" fill-opacity=\"1\" /><path clip-path=\"url(#clip470)\" d=\"M 0 0 M1524.55 1528.49 Q1527.91 1529.2 1529.79 1531.47 Q1531.68 1533.74 1531.68 1537.07 Q1531.68 1542.19 1528.17 1544.99 Q1524.65 1547.79 1518.17 1547.79 Q1515.99 1547.79 1513.68 1547.35 Q1511.38 1546.93 1508.93 1546.08 L1508.93 1541.56 Q1510.87 1542.7 1513.19 1543.28 Q1515.5 1543.86 1518.03 1543.86 Q1522.43 1543.86 1524.72 1542.12 Q1527.03 1540.38 1527.03 1537.07 Q1527.03 1534.02 1524.88 1532.31 Q1522.75 1530.57 1518.93 1530.57 L1514.9 1530.57 L1514.9 1526.73 L1519.12 1526.73 Q1522.56 1526.73 1524.39 1525.36 Q1526.22 1523.97 1526.22 1521.38 Q1526.22 1518.72 1524.32 1517.31 Q1522.45 1515.87 1518.93 1515.87 Q1517.01 1515.87 1514.81 1516.29 Q1512.61 1516.7 1509.97 1517.58 L1509.97 1513.42 Q1512.63 1512.68 1514.95 1512.31 Q1517.29 1511.93 1519.35 1511.93 Q1524.67 1511.93 1527.77 1514.37 Q1530.87 1516.77 1530.87 1520.89 Q1530.87 1523.76 1529.23 1525.75 Q1527.59 1527.72 1524.55 1528.49 Z\" fill=\"#000000\" fill-rule=\"evenodd\" fill-opacity=\"1\" /><path clip-path=\"url(#clip470)\" d=\"M 0 0 M1811.16 1516.63 L1799.35 1535.08 L1811.16 1535.08 L1811.16 1516.63 M1809.93 1512.56 L1815.81 1512.56 L1815.81 1535.08 L1820.74 1535.08 L1820.74 1538.97 L1815.81 1538.97 L1815.81 1547.12 L1811.16 1547.12 L1811.16 1538.97 L1795.56 1538.97 L1795.56 1534.46 L1809.93 1512.56 Z\" fill=\"#000000\" fill-rule=\"evenodd\" fill-opacity=\"1\" /><polyline clip-path=\"url(#clip472)\" style=\"stroke:#000000; stroke-width:2; stroke-opacity:0.1; fill:none\" points=\"\n",
       "  512.865,1342.53 1952.07,1342.53 \n",
       "  \"/>\n",
       "<polyline clip-path=\"url(#clip472)\" style=\"stroke:#000000; stroke-width:2; stroke-opacity:0.1; fill:none\" points=\"\n",
       "  512.865,1054.69 1952.07,1054.69 \n",
       "  \"/>\n",
       "<polyline clip-path=\"url(#clip472)\" style=\"stroke:#000000; stroke-width:2; stroke-opacity:0.1; fill:none\" points=\"\n",
       "  512.865,766.846 1952.07,766.846 \n",
       "  \"/>\n",
       "<polyline clip-path=\"url(#clip472)\" style=\"stroke:#000000; stroke-width:2; stroke-opacity:0.1; fill:none\" points=\"\n",
       "  512.865,479.005 1952.07,479.005 \n",
       "  \"/>\n",
       "<polyline clip-path=\"url(#clip472)\" style=\"stroke:#000000; stroke-width:2; stroke-opacity:0.1; fill:none\" points=\"\n",
       "  512.865,191.164 1952.07,191.164 \n",
       "  \"/>\n",
       "<polyline clip-path=\"url(#clip470)\" style=\"stroke:#000000; stroke-width:4; stroke-opacity:1; fill:none\" points=\"\n",
       "  512.865,1486.45 512.865,47.2441 \n",
       "  \"/>\n",
       "<polyline clip-path=\"url(#clip470)\" style=\"stroke:#000000; stroke-width:4; stroke-opacity:1; fill:none\" points=\"\n",
       "  512.865,1342.53 530.135,1342.53 \n",
       "  \"/>\n",
       "<polyline clip-path=\"url(#clip470)\" style=\"stroke:#000000; stroke-width:4; stroke-opacity:1; fill:none\" points=\"\n",
       "  512.865,1054.69 530.135,1054.69 \n",
       "  \"/>\n",
       "<polyline clip-path=\"url(#clip470)\" style=\"stroke:#000000; stroke-width:4; stroke-opacity:1; fill:none\" points=\"\n",
       "  512.865,766.846 530.135,766.846 \n",
       "  \"/>\n",
       "<polyline clip-path=\"url(#clip470)\" style=\"stroke:#000000; stroke-width:4; stroke-opacity:1; fill:none\" points=\"\n",
       "  512.865,479.005 530.135,479.005 \n",
       "  \"/>\n",
       "<polyline clip-path=\"url(#clip470)\" style=\"stroke:#000000; stroke-width:4; stroke-opacity:1; fill:none\" points=\"\n",
       "  512.865,191.164 530.135,191.164 \n",
       "  \"/>\n",
       "<path clip-path=\"url(#clip470)\" d=\"M 0 0 M464.92 1328.33 Q461.309 1328.33 459.48 1331.89 Q457.675 1335.43 457.675 1342.56 Q457.675 1349.67 459.48 1353.23 Q461.309 1356.78 464.92 1356.78 Q468.555 1356.78 470.36 1353.23 Q472.189 1349.67 472.189 1342.56 Q472.189 1335.43 470.36 1331.89 Q468.555 1328.33 464.92 1328.33 M464.92 1324.62 Q470.73 1324.62 473.786 1329.23 Q476.865 1333.81 476.865 1342.56 Q476.865 1351.29 473.786 1355.9 Q470.73 1360.48 464.92 1360.48 Q459.11 1360.48 456.031 1355.9 Q452.976 1351.29 452.976 1342.56 Q452.976 1333.81 456.031 1329.23 Q459.11 1324.62 464.92 1324.62 Z\" fill=\"#000000\" fill-rule=\"evenodd\" fill-opacity=\"1\" /><path clip-path=\"url(#clip470)\" d=\"M 0 0 M456.957 1068.03 L464.596 1068.03 L464.596 1041.67 L456.286 1043.33 L456.286 1039.07 L464.55 1037.41 L469.226 1037.41 L469.226 1068.03 L476.865 1068.03 L476.865 1071.97 L456.957 1071.97 L456.957 1068.03 Z\" fill=\"#000000\" fill-rule=\"evenodd\" fill-opacity=\"1\" /><path clip-path=\"url(#clip470)\" d=\"M 0 0 M460.545 780.191 L476.865 780.191 L476.865 784.126 L454.92 784.126 L454.92 780.191 Q457.582 777.436 462.166 772.807 Q466.772 768.154 467.953 766.811 Q470.198 764.288 471.078 762.552 Q471.98 760.793 471.98 759.103 Q471.98 756.348 470.036 754.612 Q468.115 752.876 465.013 752.876 Q462.814 752.876 460.36 753.64 Q457.93 754.404 455.152 755.955 L455.152 751.233 Q457.976 750.098 460.43 749.52 Q462.883 748.941 464.92 748.941 Q470.291 748.941 473.485 751.626 Q476.679 754.311 476.679 758.802 Q476.679 760.932 475.869 762.853 Q475.082 764.751 472.976 767.344 Q472.397 768.015 469.295 771.233 Q466.193 774.427 460.545 780.191 Z\" fill=\"#000000\" fill-rule=\"evenodd\" fill-opacity=\"1\" /><path clip-path=\"url(#clip470)\" d=\"M 0 0 M469.735 477.651 Q473.092 478.369 474.967 480.637 Q476.865 482.906 476.865 486.239 Q476.865 491.355 473.346 494.156 Q469.828 496.957 463.346 496.957 Q461.17 496.957 458.855 496.517 Q456.564 496.1 454.11 495.244 L454.11 490.73 Q456.055 491.864 458.369 492.443 Q460.684 493.021 463.207 493.021 Q467.605 493.021 469.897 491.285 Q472.212 489.549 472.212 486.239 Q472.212 483.183 470.059 481.47 Q467.93 479.734 464.11 479.734 L460.082 479.734 L460.082 475.892 L464.295 475.892 Q467.744 475.892 469.573 474.526 Q471.402 473.137 471.402 470.545 Q471.402 467.883 469.504 466.471 Q467.629 465.035 464.11 465.035 Q462.189 465.035 459.99 465.452 Q457.791 465.869 455.152 466.748 L455.152 462.582 Q457.814 461.841 460.129 461.471 Q462.467 461.1 464.527 461.1 Q469.851 461.1 472.953 463.531 Q476.054 465.938 476.054 470.059 Q476.054 472.929 474.411 474.92 Q472.767 476.887 469.735 477.651 Z\" fill=\"#000000\" fill-rule=\"evenodd\" fill-opacity=\"1\" /><path clip-path=\"url(#clip470)\" d=\"M 0 0 M467.281 177.959 L455.476 196.407 L467.281 196.407 L467.281 177.959 M466.055 173.884 L471.934 173.884 L471.934 196.407 L476.865 196.407 L476.865 200.296 L471.934 200.296 L471.934 208.444 L467.281 208.444 L467.281 200.296 L451.68 200.296 L451.68 195.783 L466.055 173.884 Z\" fill=\"#000000\" fill-rule=\"evenodd\" fill-opacity=\"1\" /><circle clip-path=\"url(#clip472)\" cx=\"944.626\" cy=\"479.005\" r=\"14\" fill=\"#ff0000\" fill-rule=\"evenodd\" fill-opacity=\"1\" stroke=\"#000000\" stroke-opacity=\"1\" stroke-width=\"3.2\"/>\n",
       "<circle clip-path=\"url(#clip472)\" cx=\"1520.31\" cy=\"479.005\" r=\"14\" fill=\"#ff0000\" fill-rule=\"evenodd\" fill-opacity=\"1\" stroke=\"#000000\" stroke-opacity=\"1\" stroke-width=\"3.2\"/>\n",
       "<circle clip-path=\"url(#clip472)\" cx=\"1808.15\" cy=\"766.846\" r=\"14\" fill=\"#ff0000\" fill-rule=\"evenodd\" fill-opacity=\"1\" stroke=\"#000000\" stroke-opacity=\"1\" stroke-width=\"3.2\"/>\n",
       "<circle clip-path=\"url(#clip472)\" cx=\"656.785\" cy=\"1054.69\" r=\"14\" fill=\"#0000ff\" fill-rule=\"evenodd\" fill-opacity=\"1\" stroke=\"#000000\" stroke-opacity=\"1\" stroke-width=\"3.2\"/>\n",
       "<circle clip-path=\"url(#clip472)\" cx=\"944.626\" cy=\"766.846\" r=\"14\" fill=\"#0000ff\" fill-rule=\"evenodd\" fill-opacity=\"1\" stroke=\"#000000\" stroke-opacity=\"1\" stroke-width=\"3.2\"/>\n",
       "<circle clip-path=\"url(#clip472)\" cx=\"1232.47\" cy=\"1054.69\" r=\"14\" fill=\"#0000ff\" fill-rule=\"evenodd\" fill-opacity=\"1\" stroke=\"#000000\" stroke-opacity=\"1\" stroke-width=\"3.2\"/>\n",
       "<polyline clip-path=\"url(#clip472)\" style=\"stroke:#008000; stroke-width:8; stroke-opacity:1; fill:none\" stroke-dasharray=\"32, 20\" points=\"\n",
       "  -782.419,-1535.88 -754.309,-1500.74 -494.391,-1175.85 -338.191,-980.596 -206.127,-815.515 -62.6673,-636.191 69.5896,-470.87 211.383,-293.628 375.664,-88.276 521.658,94.2165 \n",
       "  649.682,254.246 789.262,428.721 929.672,604.233 1084.91,798.284 1232.62,982.919 1386.2,1174.9 1515.49,1336.5 1673.33,1533.8 1821.7,1719.27 2059.41,2016.4 \n",
       "  2095.99,2062.13 \n",
       "  \"/>\n",
       "<polyline clip-path=\"url(#clip472)\" style=\"stroke:#ff00ff; stroke-width:4; stroke-opacity:1; fill:none\" stroke-dasharray=\"16, 10\" points=\"\n",
       "  -782.419,-1463.92 -754.309,-1428.78 -494.391,-1103.89 -338.191,-908.636 -206.127,-743.555 -62.6673,-564.231 69.5896,-398.909 211.383,-221.668 375.664,-16.3158 521.658,166.177 \n",
       "  649.682,326.206 789.262,500.681 929.672,676.193 1084.91,870.244 1232.62,1054.88 1386.2,1246.86 1515.49,1408.46 1673.33,1605.76 1821.7,1791.23 2059.41,2088.36 \n",
       "  2095.99,2134.09 \n",
       "  \"/>\n",
       "<polyline clip-path=\"url(#clip472)\" style=\"stroke:#ffc0cb; stroke-width:4; stroke-opacity:1; fill:none\" stroke-dasharray=\"16, 10\" points=\"\n",
       "  -782.419,-1607.84 -754.309,-1572.7 -494.391,-1247.81 -338.191,-1052.56 -206.127,-887.475 -62.6673,-708.151 69.5896,-542.83 211.383,-365.588 375.664,-160.236 521.658,22.2563 \n",
       "  649.682,182.286 789.262,356.761 929.672,532.273 1084.91,726.324 1232.62,910.959 1386.2,1102.94 1515.49,1264.54 1673.33,1461.84 1821.7,1647.31 2059.41,1944.44 \n",
       "  2095.99,1990.17 \n",
       "  \"/>\n",
       "<polyline clip-path=\"url(#clip472)\" style=\"stroke:#000000; stroke-width:4; stroke-opacity:1; fill:none\" points=\"\n",
       "  944.626,479.005 874.421,535.169 \n",
       "  \"/>\n",
       "<polyline clip-path=\"url(#clip472)\" style=\"stroke:#000000; stroke-width:4; stroke-opacity:1; fill:none\" points=\"\n",
       "  913.777,526.736 874.421,535.169 891.287,498.625 \n",
       "  \"/>\n",
       "<polyline clip-path=\"url(#clip472)\" style=\"stroke:#000000; stroke-width:4; stroke-opacity:1; fill:none\" points=\"\n",
       "  874.421,535.169 944.626,479.005 \n",
       "  \"/>\n",
       "<polyline clip-path=\"url(#clip472)\" style=\"stroke:#000000; stroke-width:4; stroke-opacity:1; fill:none\" points=\"\n",
       "  1520.31,479.005 1099.08,815.99 \n",
       "  \"/>\n",
       "<polyline clip-path=\"url(#clip472)\" style=\"stroke:#000000; stroke-width:4; stroke-opacity:1; fill:none\" points=\"\n",
       "  1138.43,807.556 1099.08,815.99 1115.94,779.445 \n",
       "  \"/>\n",
       "<polyline clip-path=\"url(#clip472)\" style=\"stroke:#000000; stroke-width:4; stroke-opacity:1; fill:none\" points=\"\n",
       "  1099.08,815.99 1520.31,479.005 \n",
       "  \"/>\n",
       "<polyline clip-path=\"url(#clip472)\" style=\"stroke:#000000; stroke-width:4; stroke-opacity:1; fill:none\" points=\"\n",
       "  1808.15,766.846 1351.82,1131.91 \n",
       "  \"/>\n",
       "<polyline clip-path=\"url(#clip472)\" style=\"stroke:#000000; stroke-width:4; stroke-opacity:1; fill:none\" points=\"\n",
       "  1391.17,1123.48 1351.82,1131.91 1368.68,1095.37 \n",
       "  \"/>\n",
       "<polyline clip-path=\"url(#clip472)\" style=\"stroke:#000000; stroke-width:4; stroke-opacity:1; fill:none\" points=\"\n",
       "  1351.82,1131.91 1808.15,766.846 \n",
       "  \"/>\n",
       "<polyline clip-path=\"url(#clip472)\" style=\"stroke:#000000; stroke-width:4; stroke-opacity:1; fill:none\" points=\"\n",
       "  656.785,1054.69 1042.91,745.784 \n",
       "  \"/>\n",
       "<polyline clip-path=\"url(#clip472)\" style=\"stroke:#000000; stroke-width:4; stroke-opacity:1; fill:none\" points=\"\n",
       "  1003.56,754.218 1042.91,745.784 1026.05,782.329 \n",
       "  \"/>\n",
       "<polyline clip-path=\"url(#clip472)\" style=\"stroke:#000000; stroke-width:4; stroke-opacity:1; fill:none\" points=\"\n",
       "  1042.91,745.784 656.785,1054.69 \n",
       "  \"/>\n",
       "<polyline clip-path=\"url(#clip472)\" style=\"stroke:#000000; stroke-width:4; stroke-opacity:1; fill:none\" points=\"\n",
       "  944.626,766.846 1014.83,710.682 \n",
       "  \"/>\n",
       "<polyline clip-path=\"url(#clip472)\" style=\"stroke:#000000; stroke-width:4; stroke-opacity:1; fill:none\" points=\"\n",
       "  975.475,719.115 1014.83,710.682 997.964,747.227 \n",
       "  \"/>\n",
       "<polyline clip-path=\"url(#clip472)\" style=\"stroke:#000000; stroke-width:4; stroke-opacity:1; fill:none\" points=\"\n",
       "  1014.83,710.682 944.626,766.846 \n",
       "  \"/>\n",
       "<polyline clip-path=\"url(#clip472)\" style=\"stroke:#000000; stroke-width:4; stroke-opacity:1; fill:none\" points=\"\n",
       "  1232.47,1054.69 1267.57,1026.6 \n",
       "  \"/>\n",
       "<polyline clip-path=\"url(#clip472)\" style=\"stroke:#000000; stroke-width:4; stroke-opacity:1; fill:none\" points=\"\n",
       "  1228.21,1035.04 1267.57,1026.6 1250.7,1063.15 \n",
       "  \"/>\n",
       "<polyline clip-path=\"url(#clip472)\" style=\"stroke:#000000; stroke-width:4; stroke-opacity:1; fill:none\" points=\"\n",
       "  1267.57,1026.6 1232.47,1054.69 \n",
       "  \"/>\n",
       "</svg>\n"
      ]
     },
     "execution_count": 8,
     "metadata": {},
     "output_type": "execute_result"
    }
   ],
   "source": [
    "d = -(w'*A1 .+ α)/norm(w)^2\n",
    "A⁺ = A1 + w.*d\n",
    "scatter(ratio = 1, leg = false)\n",
    "xlims!(-0.5, 4.5)\n",
    "ylims!(-0.5, 4.5)\n",
    "\n",
    "scatter!([A1[1,1:3]], [A1[2, 1:3]], c=:red)\n",
    "scatter!([A1[1,4:6]], [A1[2, 4:6]], c=:blue)\n",
    "plot!(x -> (15-5x)/4, c=:green, lw = 2, ls=:dash)\n",
    "plot!(x -> (14-5x)/4, c=:magenta, lw = 1, ls=:dash) #da pra ver a restrição ativa\n",
    "p=plot!(x -> (16-5x)/4, c=:pink, lw = 1, ls=:dash)\n",
    "for i = 1 : 6 #setas representam as distâncias do ponto ao hiperplano\n",
    "    p=plot!([A1[1,i], A⁺[1,i]],[A1[2,i],A⁺[2,i]], c =:black, line=:arrow)\n",
    "end\n",
    "p"
   ]
  },
  {
   "cell_type": "code",
   "execution_count": 9,
   "metadata": {},
   "outputs": [],
   "source": [
    "y = [1 1 1 -1 -1 -1];"
   ]
  },
  {
   "cell_type": "code",
   "execution_count": 10,
   "metadata": {},
   "outputs": [],
   "source": [
    "A2 = [Ω⁺;-Ω⁻]' \n",
    "A = [A2; y]';"
   ]
  },
  {
   "cell_type": "markdown",
   "metadata": {},
   "source": [
    "Passo 1: Determinar $I(x_k)$ e $r_k$"
   ]
  },
  {
   "cell_type": "code",
   "execution_count": 11,
   "metadata": {},
   "outputs": [
    {
     "data": {
      "text/plain": [
       "1×6 Adjoint{Int64,Array{Int64,1}}:\n",
       " 2  12  13  11  2  1"
      ]
     },
     "execution_count": 11,
     "metadata": {},
     "output_type": "execute_result"
    }
   ],
   "source": [
    "wc = wc1\n",
    "wc'*A'"
   ]
  },
  {
   "cell_type": "markdown",
   "metadata": {},
   "source": [
    "Igual a 1? Sim,  \n",
    "$I(x_1) = 6$ e $r_1 = 1$"
   ]
  },
  {
   "cell_type": "code",
   "execution_count": 12,
   "metadata": {},
   "outputs": [],
   "source": [
    "Abar = A[6,:]';"
   ]
  },
  {
   "cell_type": "code",
   "execution_count": 13,
   "metadata": {},
   "outputs": [],
   "source": [
    "Abarᵀ = Abar';"
   ]
  },
  {
   "cell_type": "code",
   "execution_count": 14,
   "metadata": {},
   "outputs": [],
   "source": [
    "∇f(x) = [x[1], x[2], 0];"
   ]
  },
  {
   "cell_type": "markdown",
   "metadata": {},
   "source": [
    "Resolvendo o problema: $\\min\\ \\tfrac{1}{2}\\Vert \\nabla f(x_0) - \\bar{A}^T\\lambda \\Vert^2$"
   ]
  },
  {
   "cell_type": "code",
   "execution_count": 15,
   "metadata": {},
   "outputs": [],
   "source": [
    "λbar = rationalize.(Abarᵀ\\ ∇f(wc), tol=1e-8);"
   ]
  },
  {
   "cell_type": "markdown",
   "metadata": {},
   "source": [
    "Passo 2. Se $\\nabla f(x_k) = \\bar{A}^T \\bar{\\lambda}$, então verifique se $\\lambda \\geq 0$:"
   ]
  },
  {
   "cell_type": "code",
   "execution_count": 16,
   "metadata": {},
   "outputs": [
    {
     "data": {
      "text/plain": [
       "3-element Array{Int64,1}:\n",
       " 5\n",
       " 4\n",
       " 0"
      ]
     },
     "execution_count": 16,
     "metadata": {},
     "output_type": "execute_result"
    }
   ],
   "source": [
    "∇f(wc)"
   ]
  },
  {
   "cell_type": "code",
   "execution_count": 17,
   "metadata": {
    "scrolled": true
   },
   "outputs": [
    {
     "data": {
      "text/plain": [
       "3-element Array{Rational{Int64},1}:\n",
       " 14//3\n",
       "  7//3\n",
       "  7//3"
      ]
     },
     "execution_count": 17,
     "metadata": {},
     "output_type": "execute_result"
    }
   ],
   "source": [
    "Abarᵀ*λbar"
   ]
  },
  {
   "cell_type": "markdown",
   "metadata": {},
   "source": [
    "Não são iguais."
   ]
  },
  {
   "cell_type": "markdown",
   "metadata": {},
   "source": [
    "Passo 3. Calcule um passo de Newton para o problema..."
   ]
  },
  {
   "cell_type": "code",
   "execution_count": 18,
   "metadata": {},
   "outputs": [],
   "source": [
    "Hx = [I(2) zeros(2); zeros(3)']; "
   ]
  },
  {
   "cell_type": "code",
   "execution_count": 19,
   "metadata": {},
   "outputs": [],
   "source": [
    "LHS = [Hx -Abarᵀ; Abar 0];"
   ]
  },
  {
   "cell_type": "code",
   "execution_count": 20,
   "metadata": {},
   "outputs": [],
   "source": [
    "RHS = [Abarᵀ*λbar - ∇f(wc); 1 - Abar*wc];"
   ]
  },
  {
   "cell_type": "code",
   "execution_count": 21,
   "metadata": {},
   "outputs": [],
   "source": [
    "ΔxΔλ = rationalize.(LHS \\ RHS, tol=1e-8);"
   ]
  },
  {
   "cell_type": "code",
   "execution_count": 22,
   "metadata": {},
   "outputs": [],
   "source": [
    "Δx, Δλ = ΔxΔλ[1:3], ΔxΔλ[4];"
   ]
  },
  {
   "cell_type": "markdown",
   "metadata": {},
   "source": [
    "Calcule o maior $\\alpha \\leq 1$ tal que $A(x_k+\\alpha\\Delta x) \\geq b$. "
   ]
  },
  {
   "cell_type": "markdown",
   "metadata": {},
   "source": [
    "Fazendo: $A x_k + \\alpha A \\Delta x \\geq b \\qquad \\Rightarrow \\qquad \\alpha \\geq \\dfrac{b- A x_k }{A \\Delta x}$ "
   ]
  },
  {
   "cell_type": "code",
   "execution_count": 23,
   "metadata": {},
   "outputs": [],
   "source": [
    "b = ones(6);"
   ]
  },
  {
   "cell_type": "code",
   "execution_count": 24,
   "metadata": {},
   "outputs": [
    {
     "data": {
      "text/plain": [
       "6-element Array{Float64,1}:\n",
       "   0.3333333333333333\n",
       "   0.8461538461538461\n",
       "   0.8571428571428571\n",
       "   1.0\n",
       "   1.0\n",
       " NaN"
      ]
     },
     "execution_count": 24,
     "metadata": {},
     "output_type": "execute_result"
    }
   ],
   "source": [
    "α = (b- A*wc)./(A*Δx)"
   ]
  },
  {
   "cell_type": "code",
   "execution_count": 25,
   "metadata": {},
   "outputs": [],
   "source": [
    "α = rationalize.(α[1], tol=1e-8);"
   ]
  },
  {
   "cell_type": "markdown",
   "metadata": {},
   "source": [
    "Atualize $x_{k+1} = x_k + \\alpha \\Delta x$ "
   ]
  },
  {
   "cell_type": "code",
   "execution_count": 26,
   "metadata": {},
   "outputs": [],
   "source": [
    "wc2 = (wc + α*Δx);"
   ]
  },
  {
   "cell_type": "code",
   "execution_count": 27,
   "metadata": {},
   "outputs": [],
   "source": [
    "a, b, c = wc2[1:3];"
   ]
  },
  {
   "cell_type": "code",
   "execution_count": 28,
   "metadata": {},
   "outputs": [
    {
     "data": {
      "image/svg+xml": [
       "<?xml version=\"1.0\" encoding=\"utf-8\"?>\n",
       "<svg xmlns=\"http://www.w3.org/2000/svg\" xmlns:xlink=\"http://www.w3.org/1999/xlink\" width=\"600\" height=\"400\" viewBox=\"0 0 2400 1600\">\n",
       "<defs>\n",
       "  <clipPath id=\"clip510\">\n",
       "    <rect x=\"0\" y=\"0\" width=\"2400\" height=\"1600\"/>\n",
       "  </clipPath>\n",
       "</defs>\n",
       "<path clip-path=\"url(#clip510)\" d=\"\n",
       "M0 1600 L2400 1600 L2400 0 L0 0  Z\n",
       "  \" fill=\"#ffffff\" fill-rule=\"evenodd\" fill-opacity=\"1\"/>\n",
       "<defs>\n",
       "  <clipPath id=\"clip511\">\n",
       "    <rect x=\"480\" y=\"0\" width=\"1681\" height=\"1600\"/>\n",
       "  </clipPath>\n",
       "</defs>\n",
       "<path clip-path=\"url(#clip510)\" d=\"\n",
       "M512.865 1486.45 L1952.07 1486.45 L1952.07 47.2441 L512.865 47.2441  Z\n",
       "  \" fill=\"#ffffff\" fill-rule=\"evenodd\" fill-opacity=\"1\"/>\n",
       "<defs>\n",
       "  <clipPath id=\"clip512\">\n",
       "    <rect x=\"512\" y=\"47\" width=\"1440\" height=\"1440\"/>\n",
       "  </clipPath>\n",
       "</defs>\n",
       "<polyline clip-path=\"url(#clip512)\" style=\"stroke:#000000; stroke-width:2; stroke-opacity:0.1; fill:none\" points=\"\n",
       "  656.785,1486.45 656.785,47.2441 \n",
       "  \"/>\n",
       "<polyline clip-path=\"url(#clip512)\" style=\"stroke:#000000; stroke-width:2; stroke-opacity:0.1; fill:none\" points=\"\n",
       "  944.626,1486.45 944.626,47.2441 \n",
       "  \"/>\n",
       "<polyline clip-path=\"url(#clip512)\" style=\"stroke:#000000; stroke-width:2; stroke-opacity:0.1; fill:none\" points=\"\n",
       "  1232.47,1486.45 1232.47,47.2441 \n",
       "  \"/>\n",
       "<polyline clip-path=\"url(#clip512)\" style=\"stroke:#000000; stroke-width:2; stroke-opacity:0.1; fill:none\" points=\"\n",
       "  1520.31,1486.45 1520.31,47.2441 \n",
       "  \"/>\n",
       "<polyline clip-path=\"url(#clip512)\" style=\"stroke:#000000; stroke-width:2; stroke-opacity:0.1; fill:none\" points=\"\n",
       "  1808.15,1486.45 1808.15,47.2441 \n",
       "  \"/>\n",
       "<polyline clip-path=\"url(#clip510)\" style=\"stroke:#000000; stroke-width:4; stroke-opacity:1; fill:none\" points=\"\n",
       "  512.865,1486.45 1952.07,1486.45 \n",
       "  \"/>\n",
       "<polyline clip-path=\"url(#clip510)\" style=\"stroke:#000000; stroke-width:4; stroke-opacity:1; fill:none\" points=\"\n",
       "  656.785,1486.45 656.785,1469.18 \n",
       "  \"/>\n",
       "<polyline clip-path=\"url(#clip510)\" style=\"stroke:#000000; stroke-width:4; stroke-opacity:1; fill:none\" points=\"\n",
       "  944.626,1486.45 944.626,1469.18 \n",
       "  \"/>\n",
       "<polyline clip-path=\"url(#clip510)\" style=\"stroke:#000000; stroke-width:4; stroke-opacity:1; fill:none\" points=\"\n",
       "  1232.47,1486.45 1232.47,1469.18 \n",
       "  \"/>\n",
       "<polyline clip-path=\"url(#clip510)\" style=\"stroke:#000000; stroke-width:4; stroke-opacity:1; fill:none\" points=\"\n",
       "  1520.31,1486.45 1520.31,1469.18 \n",
       "  \"/>\n",
       "<polyline clip-path=\"url(#clip510)\" style=\"stroke:#000000; stroke-width:4; stroke-opacity:1; fill:none\" points=\"\n",
       "  1808.15,1486.45 1808.15,1469.18 \n",
       "  \"/>\n",
       "<path clip-path=\"url(#clip510)\" d=\"M 0 0 M656.785 1515.64 Q653.174 1515.64 651.345 1519.2 Q649.54 1522.75 649.54 1529.87 Q649.54 1536.98 651.345 1540.55 Q653.174 1544.09 656.785 1544.09 Q660.419 1544.09 662.225 1540.55 Q664.054 1536.98 664.054 1529.87 Q664.054 1522.75 662.225 1519.2 Q660.419 1515.64 656.785 1515.64 M656.785 1511.93 Q662.595 1511.93 665.651 1516.54 Q668.729 1521.12 668.729 1529.87 Q668.729 1538.6 665.651 1543.21 Q662.595 1547.79 656.785 1547.79 Q650.975 1547.79 647.896 1543.21 Q644.841 1538.6 644.841 1529.87 Q644.841 1521.12 647.896 1516.54 Q650.975 1511.93 656.785 1511.93 Z\" fill=\"#000000\" fill-rule=\"evenodd\" fill-opacity=\"1\" /><path clip-path=\"url(#clip510)\" d=\"M 0 0 M935.008 1543.18 L942.647 1543.18 L942.647 1516.82 L934.336 1518.49 L934.336 1514.23 L942.6 1512.56 L947.276 1512.56 L947.276 1543.18 L954.915 1543.18 L954.915 1547.12 L935.008 1547.12 L935.008 1543.18 Z\" fill=\"#000000\" fill-rule=\"evenodd\" fill-opacity=\"1\" /><path clip-path=\"url(#clip510)\" d=\"M 0 0 M1227.12 1543.18 L1243.44 1543.18 L1243.44 1547.12 L1221.49 1547.12 L1221.49 1543.18 Q1224.16 1540.43 1228.74 1535.8 Q1233.35 1531.15 1234.53 1529.81 Q1236.77 1527.28 1237.65 1525.55 Q1238.55 1523.79 1238.55 1522.1 Q1238.55 1519.34 1236.61 1517.61 Q1234.69 1515.87 1231.59 1515.87 Q1229.39 1515.87 1226.93 1516.63 Q1224.5 1517.4 1221.73 1518.95 L1221.73 1514.23 Q1224.55 1513.09 1227 1512.51 Q1229.46 1511.93 1231.49 1511.93 Q1236.86 1511.93 1240.06 1514.62 Q1243.25 1517.31 1243.25 1521.8 Q1243.25 1523.93 1242.44 1525.85 Q1241.66 1527.74 1239.55 1530.34 Q1238.97 1531.01 1235.87 1534.23 Q1232.77 1537.42 1227.12 1543.18 Z\" fill=\"#000000\" fill-rule=\"evenodd\" fill-opacity=\"1\" /><path clip-path=\"url(#clip510)\" d=\"M 0 0 M1524.55 1528.49 Q1527.91 1529.2 1529.79 1531.47 Q1531.68 1533.74 1531.68 1537.07 Q1531.68 1542.19 1528.17 1544.99 Q1524.65 1547.79 1518.17 1547.79 Q1515.99 1547.79 1513.68 1547.35 Q1511.38 1546.93 1508.93 1546.08 L1508.93 1541.56 Q1510.87 1542.7 1513.19 1543.28 Q1515.5 1543.86 1518.03 1543.86 Q1522.43 1543.86 1524.72 1542.12 Q1527.03 1540.38 1527.03 1537.07 Q1527.03 1534.02 1524.88 1532.31 Q1522.75 1530.57 1518.93 1530.57 L1514.9 1530.57 L1514.9 1526.73 L1519.12 1526.73 Q1522.56 1526.73 1524.39 1525.36 Q1526.22 1523.97 1526.22 1521.38 Q1526.22 1518.72 1524.32 1517.31 Q1522.45 1515.87 1518.93 1515.87 Q1517.01 1515.87 1514.81 1516.29 Q1512.61 1516.7 1509.97 1517.58 L1509.97 1513.42 Q1512.63 1512.68 1514.95 1512.31 Q1517.29 1511.93 1519.35 1511.93 Q1524.67 1511.93 1527.77 1514.37 Q1530.87 1516.77 1530.87 1520.89 Q1530.87 1523.76 1529.23 1525.75 Q1527.59 1527.72 1524.55 1528.49 Z\" fill=\"#000000\" fill-rule=\"evenodd\" fill-opacity=\"1\" /><path clip-path=\"url(#clip510)\" d=\"M 0 0 M1811.16 1516.63 L1799.35 1535.08 L1811.16 1535.08 L1811.16 1516.63 M1809.93 1512.56 L1815.81 1512.56 L1815.81 1535.08 L1820.74 1535.08 L1820.74 1538.97 L1815.81 1538.97 L1815.81 1547.12 L1811.16 1547.12 L1811.16 1538.97 L1795.56 1538.97 L1795.56 1534.46 L1809.93 1512.56 Z\" fill=\"#000000\" fill-rule=\"evenodd\" fill-opacity=\"1\" /><polyline clip-path=\"url(#clip512)\" style=\"stroke:#000000; stroke-width:2; stroke-opacity:0.1; fill:none\" points=\"\n",
       "  512.865,1342.53 1952.07,1342.53 \n",
       "  \"/>\n",
       "<polyline clip-path=\"url(#clip512)\" style=\"stroke:#000000; stroke-width:2; stroke-opacity:0.1; fill:none\" points=\"\n",
       "  512.865,1054.69 1952.07,1054.69 \n",
       "  \"/>\n",
       "<polyline clip-path=\"url(#clip512)\" style=\"stroke:#000000; stroke-width:2; stroke-opacity:0.1; fill:none\" points=\"\n",
       "  512.865,766.846 1952.07,766.846 \n",
       "  \"/>\n",
       "<polyline clip-path=\"url(#clip512)\" style=\"stroke:#000000; stroke-width:2; stroke-opacity:0.1; fill:none\" points=\"\n",
       "  512.865,479.005 1952.07,479.005 \n",
       "  \"/>\n",
       "<polyline clip-path=\"url(#clip512)\" style=\"stroke:#000000; stroke-width:2; stroke-opacity:0.1; fill:none\" points=\"\n",
       "  512.865,191.164 1952.07,191.164 \n",
       "  \"/>\n",
       "<polyline clip-path=\"url(#clip510)\" style=\"stroke:#000000; stroke-width:4; stroke-opacity:1; fill:none\" points=\"\n",
       "  512.865,1486.45 512.865,47.2441 \n",
       "  \"/>\n",
       "<polyline clip-path=\"url(#clip510)\" style=\"stroke:#000000; stroke-width:4; stroke-opacity:1; fill:none\" points=\"\n",
       "  512.865,1342.53 530.135,1342.53 \n",
       "  \"/>\n",
       "<polyline clip-path=\"url(#clip510)\" style=\"stroke:#000000; stroke-width:4; stroke-opacity:1; fill:none\" points=\"\n",
       "  512.865,1054.69 530.135,1054.69 \n",
       "  \"/>\n",
       "<polyline clip-path=\"url(#clip510)\" style=\"stroke:#000000; stroke-width:4; stroke-opacity:1; fill:none\" points=\"\n",
       "  512.865,766.846 530.135,766.846 \n",
       "  \"/>\n",
       "<polyline clip-path=\"url(#clip510)\" style=\"stroke:#000000; stroke-width:4; stroke-opacity:1; fill:none\" points=\"\n",
       "  512.865,479.005 530.135,479.005 \n",
       "  \"/>\n",
       "<polyline clip-path=\"url(#clip510)\" style=\"stroke:#000000; stroke-width:4; stroke-opacity:1; fill:none\" points=\"\n",
       "  512.865,191.164 530.135,191.164 \n",
       "  \"/>\n",
       "<path clip-path=\"url(#clip510)\" d=\"M 0 0 M464.92 1328.33 Q461.309 1328.33 459.48 1331.89 Q457.675 1335.43 457.675 1342.56 Q457.675 1349.67 459.48 1353.23 Q461.309 1356.78 464.92 1356.78 Q468.555 1356.78 470.36 1353.23 Q472.189 1349.67 472.189 1342.56 Q472.189 1335.43 470.36 1331.89 Q468.555 1328.33 464.92 1328.33 M464.92 1324.62 Q470.73 1324.62 473.786 1329.23 Q476.865 1333.81 476.865 1342.56 Q476.865 1351.29 473.786 1355.9 Q470.73 1360.48 464.92 1360.48 Q459.11 1360.48 456.031 1355.9 Q452.976 1351.29 452.976 1342.56 Q452.976 1333.81 456.031 1329.23 Q459.11 1324.62 464.92 1324.62 Z\" fill=\"#000000\" fill-rule=\"evenodd\" fill-opacity=\"1\" /><path clip-path=\"url(#clip510)\" d=\"M 0 0 M456.957 1068.03 L464.596 1068.03 L464.596 1041.67 L456.286 1043.33 L456.286 1039.07 L464.55 1037.41 L469.226 1037.41 L469.226 1068.03 L476.865 1068.03 L476.865 1071.97 L456.957 1071.97 L456.957 1068.03 Z\" fill=\"#000000\" fill-rule=\"evenodd\" fill-opacity=\"1\" /><path clip-path=\"url(#clip510)\" d=\"M 0 0 M460.545 780.191 L476.865 780.191 L476.865 784.126 L454.92 784.126 L454.92 780.191 Q457.582 777.436 462.166 772.807 Q466.772 768.154 467.953 766.811 Q470.198 764.288 471.078 762.552 Q471.98 760.793 471.98 759.103 Q471.98 756.348 470.036 754.612 Q468.115 752.876 465.013 752.876 Q462.814 752.876 460.36 753.64 Q457.93 754.404 455.152 755.955 L455.152 751.233 Q457.976 750.098 460.43 749.52 Q462.883 748.941 464.92 748.941 Q470.291 748.941 473.485 751.626 Q476.679 754.311 476.679 758.802 Q476.679 760.932 475.869 762.853 Q475.082 764.751 472.976 767.344 Q472.397 768.015 469.295 771.233 Q466.193 774.427 460.545 780.191 Z\" fill=\"#000000\" fill-rule=\"evenodd\" fill-opacity=\"1\" /><path clip-path=\"url(#clip510)\" d=\"M 0 0 M469.735 477.651 Q473.092 478.369 474.967 480.637 Q476.865 482.906 476.865 486.239 Q476.865 491.355 473.346 494.156 Q469.828 496.957 463.346 496.957 Q461.17 496.957 458.855 496.517 Q456.564 496.1 454.11 495.244 L454.11 490.73 Q456.055 491.864 458.369 492.443 Q460.684 493.021 463.207 493.021 Q467.605 493.021 469.897 491.285 Q472.212 489.549 472.212 486.239 Q472.212 483.183 470.059 481.47 Q467.93 479.734 464.11 479.734 L460.082 479.734 L460.082 475.892 L464.295 475.892 Q467.744 475.892 469.573 474.526 Q471.402 473.137 471.402 470.545 Q471.402 467.883 469.504 466.471 Q467.629 465.035 464.11 465.035 Q462.189 465.035 459.99 465.452 Q457.791 465.869 455.152 466.748 L455.152 462.582 Q457.814 461.841 460.129 461.471 Q462.467 461.1 464.527 461.1 Q469.851 461.1 472.953 463.531 Q476.054 465.938 476.054 470.059 Q476.054 472.929 474.411 474.92 Q472.767 476.887 469.735 477.651 Z\" fill=\"#000000\" fill-rule=\"evenodd\" fill-opacity=\"1\" /><path clip-path=\"url(#clip510)\" d=\"M 0 0 M467.281 177.959 L455.476 196.407 L467.281 196.407 L467.281 177.959 M466.055 173.884 L471.934 173.884 L471.934 196.407 L476.865 196.407 L476.865 200.296 L471.934 200.296 L471.934 208.444 L467.281 208.444 L467.281 200.296 L451.68 200.296 L451.68 195.783 L466.055 173.884 Z\" fill=\"#000000\" fill-rule=\"evenodd\" fill-opacity=\"1\" /><circle clip-path=\"url(#clip512)\" cx=\"944.626\" cy=\"479.005\" r=\"14\" fill=\"#ff0000\" fill-rule=\"evenodd\" fill-opacity=\"1\" stroke=\"#000000\" stroke-opacity=\"1\" stroke-width=\"3.2\"/>\n",
       "<circle clip-path=\"url(#clip512)\" cx=\"1520.31\" cy=\"479.005\" r=\"14\" fill=\"#ff0000\" fill-rule=\"evenodd\" fill-opacity=\"1\" stroke=\"#000000\" stroke-opacity=\"1\" stroke-width=\"3.2\"/>\n",
       "<circle clip-path=\"url(#clip512)\" cx=\"1808.15\" cy=\"766.846\" r=\"14\" fill=\"#ff0000\" fill-rule=\"evenodd\" fill-opacity=\"1\" stroke=\"#000000\" stroke-opacity=\"1\" stroke-width=\"3.2\"/>\n",
       "<circle clip-path=\"url(#clip512)\" cx=\"656.785\" cy=\"1054.69\" r=\"14\" fill=\"#0000ff\" fill-rule=\"evenodd\" fill-opacity=\"1\" stroke=\"#000000\" stroke-opacity=\"1\" stroke-width=\"3.2\"/>\n",
       "<circle clip-path=\"url(#clip512)\" cx=\"944.626\" cy=\"766.846\" r=\"14\" fill=\"#0000ff\" fill-rule=\"evenodd\" fill-opacity=\"1\" stroke=\"#000000\" stroke-opacity=\"1\" stroke-width=\"3.2\"/>\n",
       "<circle clip-path=\"url(#clip512)\" cx=\"1232.47\" cy=\"1054.69\" r=\"14\" fill=\"#0000ff\" fill-rule=\"evenodd\" fill-opacity=\"1\" stroke=\"#000000\" stroke-opacity=\"1\" stroke-width=\"3.2\"/>\n",
       "<polyline clip-path=\"url(#clip512)\" style=\"stroke:#008000; stroke-width:8; stroke-opacity:1; fill:none\" stroke-dasharray=\"32, 20\" points=\"\n",
       "  -782.419,-1535.88 -754.309,-1500.74 -494.391,-1175.85 -338.191,-980.596 -206.127,-815.515 -62.6673,-636.191 69.5896,-470.87 211.383,-293.628 375.664,-88.276 521.658,94.2165 \n",
       "  649.682,254.246 789.262,428.721 929.672,604.233 1084.91,798.284 1232.62,982.919 1386.2,1174.9 1515.49,1336.5 1673.33,1533.8 1821.7,1719.27 2059.41,2016.4 \n",
       "  2095.99,2062.13 \n",
       "  \"/>\n",
       "<polyline clip-path=\"url(#clip512)\" style=\"stroke:#ff00ff; stroke-width:12; stroke-opacity:1; fill:none\" stroke-dasharray=\"6, 12\" points=\"\n",
       "  -782.419,-1571.86 -754.309,-1536.72 -494.391,-1211.83 -338.191,-1016.58 -206.127,-851.495 -62.6673,-672.171 69.5896,-506.85 211.383,-329.608 375.664,-124.256 521.658,58.2364 \n",
       "  649.682,218.266 789.262,392.741 929.672,568.253 1084.91,762.304 1232.62,946.939 1386.2,1138.92 1515.49,1300.52 1673.33,1497.82 1821.7,1683.29 2059.41,1980.42 \n",
       "  2095.99,2026.15 \n",
       "  \"/>\n",
       "</svg>\n"
      ]
     },
     "execution_count": 28,
     "metadata": {},
     "output_type": "execute_result"
    }
   ],
   "source": [
    "scatter(ratio = 1, leg = false)\n",
    "xlims!(-0.5, 4.5)\n",
    "ylims!(-0.5, 4.5)\n",
    "\n",
    "scatter!([A1[1,1:3]], [A1[2, 1:3]], c=:red)\n",
    "scatter!([A1[1,4:6]], [A1[2, 4:6]], c=:blue)\n",
    "plot!(x -> (15-5x)/4, c=:green, lw = 2, ls=:dash)\n",
    "plot!(x -> (-c-a.*x)/b, c=:magenta, lw = 3, ls=:dot)"
   ]
  },
  {
   "cell_type": "markdown",
   "metadata": {},
   "source": [
    "### 2ª Iteração"
   ]
  },
  {
   "cell_type": "markdown",
   "metadata": {},
   "source": [
    "Passo 1: Determinar $I(x_k)$ e $r_k$"
   ]
  },
  {
   "cell_type": "code",
   "execution_count": 29,
   "metadata": {},
   "outputs": [
    {
     "data": {
      "text/plain": [
       "1×6 Adjoint{Rational{Int64},Array{Rational{Int64},1}}:\n",
       " 1//1  23//3  25//3  23//3  5//3  1//1"
      ]
     },
     "execution_count": 29,
     "metadata": {},
     "output_type": "execute_result"
    }
   ],
   "source": [
    "wc = wc2\n",
    "wc'*A'"
   ]
  },
  {
   "cell_type": "markdown",
   "metadata": {},
   "source": [
    "Igual a 1? Sim,  \n",
    "$I(x_2) = 1,6$ e $r_2 = 2$"
   ]
  },
  {
   "cell_type": "code",
   "execution_count": 30,
   "metadata": {},
   "outputs": [],
   "source": [
    "Abar = [A[1, :] A[6,:]]';"
   ]
  },
  {
   "cell_type": "code",
   "execution_count": 31,
   "metadata": {},
   "outputs": [],
   "source": [
    "Abarᵀ = Abar';"
   ]
  },
  {
   "cell_type": "markdown",
   "metadata": {},
   "source": [
    "Resolvendo o problema: $\\min\\ \\tfrac{1}{2}\\Vert \\nabla f(x_0) - \\bar{A}^T\\lambda \\Vert^2$"
   ]
  },
  {
   "cell_type": "code",
   "execution_count": 32,
   "metadata": {},
   "outputs": [],
   "source": [
    "λbar = rationalize.(Abarᵀ\\ ∇f(wc), tol=1e-8);"
   ]
  },
  {
   "cell_type": "markdown",
   "metadata": {},
   "source": [
    "Passo 2. Se $\\nabla f(x_k) = \\bar{A}^T \\bar{\\lambda}$, então verifique se $\\lambda \\geq 0$: "
   ]
  },
  {
   "cell_type": "code",
   "execution_count": 33,
   "metadata": {},
   "outputs": [
    {
     "data": {
      "text/plain": [
       "3-element Array{Rational{Int64},1}:\n",
       " 10//3\n",
       "  8//3\n",
       "  0//1"
      ]
     },
     "execution_count": 33,
     "metadata": {},
     "output_type": "execute_result"
    }
   ],
   "source": [
    "∇f(wc)"
   ]
  },
  {
   "cell_type": "code",
   "execution_count": 34,
   "metadata": {},
   "outputs": [
    {
     "data": {
      "text/plain": [
       "3-element Array{Rational{Int64},1}:\n",
       " 122//45\n",
       " 106//45\n",
       "  14//9"
      ]
     },
     "execution_count": 34,
     "metadata": {},
     "output_type": "execute_result"
    }
   ],
   "source": [
    "Abarᵀ*λbar"
   ]
  },
  {
   "cell_type": "markdown",
   "metadata": {},
   "source": [
    "Não são iguais..."
   ]
  },
  {
   "cell_type": "markdown",
   "metadata": {},
   "source": [
    "Passo 3. Calcule um passo de Newton para o problema..."
   ]
  },
  {
   "cell_type": "code",
   "execution_count": 35,
   "metadata": {},
   "outputs": [],
   "source": [
    "Hx = [I(2) zeros(2); zeros(3)']; "
   ]
  },
  {
   "cell_type": "code",
   "execution_count": 36,
   "metadata": {},
   "outputs": [],
   "source": [
    "LHS = [Hx -Abarᵀ; Abar zeros(2,2)];"
   ]
  },
  {
   "cell_type": "code",
   "execution_count": 37,
   "metadata": {},
   "outputs": [],
   "source": [
    "RHS = [Abarᵀ*λbar - ∇f(wc); ones(2) - Abar*wc];"
   ]
  },
  {
   "cell_type": "code",
   "execution_count": 38,
   "metadata": {},
   "outputs": [],
   "source": [
    "ΔxΔλ = LHS \\ RHS;"
   ]
  },
  {
   "cell_type": "code",
   "execution_count": 39,
   "metadata": {},
   "outputs": [],
   "source": [
    "Δx, Δλ = ΔxΔλ[1:3], ΔxΔλ[4:5];"
   ]
  },
  {
   "cell_type": "markdown",
   "metadata": {},
   "source": [
    "Calcule o maior $\\alpha \\leq 1$ tal que $A(x_k+\\alpha\\Delta x) \\geq b$. "
   ]
  },
  {
   "cell_type": "markdown",
   "metadata": {},
   "source": [
    "Fazendo: $A x_k + \\alpha A \\Delta x \\geq b \\qquad \\Rightarrow \\qquad \\alpha \\geq \\dfrac{b- A x_k}{A \\Delta x}$ "
   ]
  },
  {
   "cell_type": "code",
   "execution_count": 40,
   "metadata": {},
   "outputs": [],
   "source": [
    "b = ones(6);"
   ]
  },
  {
   "cell_type": "code",
   "execution_count": 41,
   "metadata": {},
   "outputs": [
    {
     "data": {
      "text/plain": [
       "6-element Array{Float64,1}:\n",
       " NaN\n",
       "   0.8928571428571429\n",
       "   0.7857142857142857\n",
       "   0.8928571428571429\n",
       "   0.3571428571428571\n",
       " NaN"
      ]
     },
     "execution_count": 41,
     "metadata": {},
     "output_type": "execute_result"
    }
   ],
   "source": [
    "α = (b-A*wc)./(A*Δx)"
   ]
  },
  {
   "cell_type": "code",
   "execution_count": 42,
   "metadata": {},
   "outputs": [],
   "source": [
    "α = rationalize.(α[5], tol=1e-8);"
   ]
  },
  {
   "cell_type": "markdown",
   "metadata": {},
   "source": [
    "Atualize $x_{k+1} = x_k + \\alpha \\Delta x$ "
   ]
  },
  {
   "cell_type": "code",
   "execution_count": 43,
   "metadata": {},
   "outputs": [
    {
     "data": {
      "text/plain": [
       "3-element Array{Rational{Int64},1}:\n",
       "  2//1\n",
       "  2//1\n",
       " -7//1"
      ]
     },
     "execution_count": 43,
     "metadata": {},
     "output_type": "execute_result"
    }
   ],
   "source": [
    "wc3 = rationalize.(wc + α*Δx, tol=1e-8)"
   ]
  },
  {
   "cell_type": "code",
   "execution_count": 44,
   "metadata": {},
   "outputs": [],
   "source": [
    "a, b, c = wc2[1:3]\n",
    "a1, b1, c1 = wc3[1:3];\n"
   ]
  },
  {
   "cell_type": "code",
   "execution_count": 45,
   "metadata": {
    "scrolled": false
   },
   "outputs": [
    {
     "data": {
      "image/svg+xml": [
       "<?xml version=\"1.0\" encoding=\"utf-8\"?>\n",
       "<svg xmlns=\"http://www.w3.org/2000/svg\" xmlns:xlink=\"http://www.w3.org/1999/xlink\" width=\"600\" height=\"400\" viewBox=\"0 0 2400 1600\">\n",
       "<defs>\n",
       "  <clipPath id=\"clip550\">\n",
       "    <rect x=\"0\" y=\"0\" width=\"2400\" height=\"1600\"/>\n",
       "  </clipPath>\n",
       "</defs>\n",
       "<path clip-path=\"url(#clip550)\" d=\"\n",
       "M0 1600 L2400 1600 L2400 0 L0 0  Z\n",
       "  \" fill=\"#ffffff\" fill-rule=\"evenodd\" fill-opacity=\"1\"/>\n",
       "<defs>\n",
       "  <clipPath id=\"clip551\">\n",
       "    <rect x=\"480\" y=\"0\" width=\"1681\" height=\"1600\"/>\n",
       "  </clipPath>\n",
       "</defs>\n",
       "<path clip-path=\"url(#clip550)\" d=\"\n",
       "M512.865 1486.45 L1952.07 1486.45 L1952.07 47.2441 L512.865 47.2441  Z\n",
       "  \" fill=\"#ffffff\" fill-rule=\"evenodd\" fill-opacity=\"1\"/>\n",
       "<defs>\n",
       "  <clipPath id=\"clip552\">\n",
       "    <rect x=\"512\" y=\"47\" width=\"1440\" height=\"1440\"/>\n",
       "  </clipPath>\n",
       "</defs>\n",
       "<polyline clip-path=\"url(#clip552)\" style=\"stroke:#000000; stroke-width:2; stroke-opacity:0.1; fill:none\" points=\"\n",
       "  656.785,1486.45 656.785,47.2441 \n",
       "  \"/>\n",
       "<polyline clip-path=\"url(#clip552)\" style=\"stroke:#000000; stroke-width:2; stroke-opacity:0.1; fill:none\" points=\"\n",
       "  944.626,1486.45 944.626,47.2441 \n",
       "  \"/>\n",
       "<polyline clip-path=\"url(#clip552)\" style=\"stroke:#000000; stroke-width:2; stroke-opacity:0.1; fill:none\" points=\"\n",
       "  1232.47,1486.45 1232.47,47.2441 \n",
       "  \"/>\n",
       "<polyline clip-path=\"url(#clip552)\" style=\"stroke:#000000; stroke-width:2; stroke-opacity:0.1; fill:none\" points=\"\n",
       "  1520.31,1486.45 1520.31,47.2441 \n",
       "  \"/>\n",
       "<polyline clip-path=\"url(#clip552)\" style=\"stroke:#000000; stroke-width:2; stroke-opacity:0.1; fill:none\" points=\"\n",
       "  1808.15,1486.45 1808.15,47.2441 \n",
       "  \"/>\n",
       "<polyline clip-path=\"url(#clip550)\" style=\"stroke:#000000; stroke-width:4; stroke-opacity:1; fill:none\" points=\"\n",
       "  512.865,1486.45 1952.07,1486.45 \n",
       "  \"/>\n",
       "<polyline clip-path=\"url(#clip550)\" style=\"stroke:#000000; stroke-width:4; stroke-opacity:1; fill:none\" points=\"\n",
       "  656.785,1486.45 656.785,1469.18 \n",
       "  \"/>\n",
       "<polyline clip-path=\"url(#clip550)\" style=\"stroke:#000000; stroke-width:4; stroke-opacity:1; fill:none\" points=\"\n",
       "  944.626,1486.45 944.626,1469.18 \n",
       "  \"/>\n",
       "<polyline clip-path=\"url(#clip550)\" style=\"stroke:#000000; stroke-width:4; stroke-opacity:1; fill:none\" points=\"\n",
       "  1232.47,1486.45 1232.47,1469.18 \n",
       "  \"/>\n",
       "<polyline clip-path=\"url(#clip550)\" style=\"stroke:#000000; stroke-width:4; stroke-opacity:1; fill:none\" points=\"\n",
       "  1520.31,1486.45 1520.31,1469.18 \n",
       "  \"/>\n",
       "<polyline clip-path=\"url(#clip550)\" style=\"stroke:#000000; stroke-width:4; stroke-opacity:1; fill:none\" points=\"\n",
       "  1808.15,1486.45 1808.15,1469.18 \n",
       "  \"/>\n",
       "<path clip-path=\"url(#clip550)\" d=\"M 0 0 M656.785 1515.64 Q653.174 1515.64 651.345 1519.2 Q649.54 1522.75 649.54 1529.87 Q649.54 1536.98 651.345 1540.55 Q653.174 1544.09 656.785 1544.09 Q660.419 1544.09 662.225 1540.55 Q664.054 1536.98 664.054 1529.87 Q664.054 1522.75 662.225 1519.2 Q660.419 1515.64 656.785 1515.64 M656.785 1511.93 Q662.595 1511.93 665.651 1516.54 Q668.729 1521.12 668.729 1529.87 Q668.729 1538.6 665.651 1543.21 Q662.595 1547.79 656.785 1547.79 Q650.975 1547.79 647.896 1543.21 Q644.841 1538.6 644.841 1529.87 Q644.841 1521.12 647.896 1516.54 Q650.975 1511.93 656.785 1511.93 Z\" fill=\"#000000\" fill-rule=\"evenodd\" fill-opacity=\"1\" /><path clip-path=\"url(#clip550)\" d=\"M 0 0 M935.008 1543.18 L942.647 1543.18 L942.647 1516.82 L934.336 1518.49 L934.336 1514.23 L942.6 1512.56 L947.276 1512.56 L947.276 1543.18 L954.915 1543.18 L954.915 1547.12 L935.008 1547.12 L935.008 1543.18 Z\" fill=\"#000000\" fill-rule=\"evenodd\" fill-opacity=\"1\" /><path clip-path=\"url(#clip550)\" d=\"M 0 0 M1227.12 1543.18 L1243.44 1543.18 L1243.44 1547.12 L1221.49 1547.12 L1221.49 1543.18 Q1224.16 1540.43 1228.74 1535.8 Q1233.35 1531.15 1234.53 1529.81 Q1236.77 1527.28 1237.65 1525.55 Q1238.55 1523.79 1238.55 1522.1 Q1238.55 1519.34 1236.61 1517.61 Q1234.69 1515.87 1231.59 1515.87 Q1229.39 1515.87 1226.93 1516.63 Q1224.5 1517.4 1221.73 1518.95 L1221.73 1514.23 Q1224.55 1513.09 1227 1512.51 Q1229.46 1511.93 1231.49 1511.93 Q1236.86 1511.93 1240.06 1514.62 Q1243.25 1517.31 1243.25 1521.8 Q1243.25 1523.93 1242.44 1525.85 Q1241.66 1527.74 1239.55 1530.34 Q1238.97 1531.01 1235.87 1534.23 Q1232.77 1537.42 1227.12 1543.18 Z\" fill=\"#000000\" fill-rule=\"evenodd\" fill-opacity=\"1\" /><path clip-path=\"url(#clip550)\" d=\"M 0 0 M1524.55 1528.49 Q1527.91 1529.2 1529.79 1531.47 Q1531.68 1533.74 1531.68 1537.07 Q1531.68 1542.19 1528.17 1544.99 Q1524.65 1547.79 1518.17 1547.79 Q1515.99 1547.79 1513.68 1547.35 Q1511.38 1546.93 1508.93 1546.08 L1508.93 1541.56 Q1510.87 1542.7 1513.19 1543.28 Q1515.5 1543.86 1518.03 1543.86 Q1522.43 1543.86 1524.72 1542.12 Q1527.03 1540.38 1527.03 1537.07 Q1527.03 1534.02 1524.88 1532.31 Q1522.75 1530.57 1518.93 1530.57 L1514.9 1530.57 L1514.9 1526.73 L1519.12 1526.73 Q1522.56 1526.73 1524.39 1525.36 Q1526.22 1523.97 1526.22 1521.38 Q1526.22 1518.72 1524.32 1517.31 Q1522.45 1515.87 1518.93 1515.87 Q1517.01 1515.87 1514.81 1516.29 Q1512.61 1516.7 1509.97 1517.58 L1509.97 1513.42 Q1512.63 1512.68 1514.95 1512.31 Q1517.29 1511.93 1519.35 1511.93 Q1524.67 1511.93 1527.77 1514.37 Q1530.87 1516.77 1530.87 1520.89 Q1530.87 1523.76 1529.23 1525.75 Q1527.59 1527.72 1524.55 1528.49 Z\" fill=\"#000000\" fill-rule=\"evenodd\" fill-opacity=\"1\" /><path clip-path=\"url(#clip550)\" d=\"M 0 0 M1811.16 1516.63 L1799.35 1535.08 L1811.16 1535.08 L1811.16 1516.63 M1809.93 1512.56 L1815.81 1512.56 L1815.81 1535.08 L1820.74 1535.08 L1820.74 1538.97 L1815.81 1538.97 L1815.81 1547.12 L1811.16 1547.12 L1811.16 1538.97 L1795.56 1538.97 L1795.56 1534.46 L1809.93 1512.56 Z\" fill=\"#000000\" fill-rule=\"evenodd\" fill-opacity=\"1\" /><polyline clip-path=\"url(#clip552)\" style=\"stroke:#000000; stroke-width:2; stroke-opacity:0.1; fill:none\" points=\"\n",
       "  512.865,1342.53 1952.07,1342.53 \n",
       "  \"/>\n",
       "<polyline clip-path=\"url(#clip552)\" style=\"stroke:#000000; stroke-width:2; stroke-opacity:0.1; fill:none\" points=\"\n",
       "  512.865,1054.69 1952.07,1054.69 \n",
       "  \"/>\n",
       "<polyline clip-path=\"url(#clip552)\" style=\"stroke:#000000; stroke-width:2; stroke-opacity:0.1; fill:none\" points=\"\n",
       "  512.865,766.846 1952.07,766.846 \n",
       "  \"/>\n",
       "<polyline clip-path=\"url(#clip552)\" style=\"stroke:#000000; stroke-width:2; stroke-opacity:0.1; fill:none\" points=\"\n",
       "  512.865,479.005 1952.07,479.005 \n",
       "  \"/>\n",
       "<polyline clip-path=\"url(#clip552)\" style=\"stroke:#000000; stroke-width:2; stroke-opacity:0.1; fill:none\" points=\"\n",
       "  512.865,191.164 1952.07,191.164 \n",
       "  \"/>\n",
       "<polyline clip-path=\"url(#clip550)\" style=\"stroke:#000000; stroke-width:4; stroke-opacity:1; fill:none\" points=\"\n",
       "  512.865,1486.45 512.865,47.2441 \n",
       "  \"/>\n",
       "<polyline clip-path=\"url(#clip550)\" style=\"stroke:#000000; stroke-width:4; stroke-opacity:1; fill:none\" points=\"\n",
       "  512.865,1342.53 530.135,1342.53 \n",
       "  \"/>\n",
       "<polyline clip-path=\"url(#clip550)\" style=\"stroke:#000000; stroke-width:4; stroke-opacity:1; fill:none\" points=\"\n",
       "  512.865,1054.69 530.135,1054.69 \n",
       "  \"/>\n",
       "<polyline clip-path=\"url(#clip550)\" style=\"stroke:#000000; stroke-width:4; stroke-opacity:1; fill:none\" points=\"\n",
       "  512.865,766.846 530.135,766.846 \n",
       "  \"/>\n",
       "<polyline clip-path=\"url(#clip550)\" style=\"stroke:#000000; stroke-width:4; stroke-opacity:1; fill:none\" points=\"\n",
       "  512.865,479.005 530.135,479.005 \n",
       "  \"/>\n",
       "<polyline clip-path=\"url(#clip550)\" style=\"stroke:#000000; stroke-width:4; stroke-opacity:1; fill:none\" points=\"\n",
       "  512.865,191.164 530.135,191.164 \n",
       "  \"/>\n",
       "<path clip-path=\"url(#clip550)\" d=\"M 0 0 M464.92 1328.33 Q461.309 1328.33 459.48 1331.89 Q457.675 1335.43 457.675 1342.56 Q457.675 1349.67 459.48 1353.23 Q461.309 1356.78 464.92 1356.78 Q468.555 1356.78 470.36 1353.23 Q472.189 1349.67 472.189 1342.56 Q472.189 1335.43 470.36 1331.89 Q468.555 1328.33 464.92 1328.33 M464.92 1324.62 Q470.73 1324.62 473.786 1329.23 Q476.865 1333.81 476.865 1342.56 Q476.865 1351.29 473.786 1355.9 Q470.73 1360.48 464.92 1360.48 Q459.11 1360.48 456.031 1355.9 Q452.976 1351.29 452.976 1342.56 Q452.976 1333.81 456.031 1329.23 Q459.11 1324.62 464.92 1324.62 Z\" fill=\"#000000\" fill-rule=\"evenodd\" fill-opacity=\"1\" /><path clip-path=\"url(#clip550)\" d=\"M 0 0 M456.957 1068.03 L464.596 1068.03 L464.596 1041.67 L456.286 1043.33 L456.286 1039.07 L464.55 1037.41 L469.226 1037.41 L469.226 1068.03 L476.865 1068.03 L476.865 1071.97 L456.957 1071.97 L456.957 1068.03 Z\" fill=\"#000000\" fill-rule=\"evenodd\" fill-opacity=\"1\" /><path clip-path=\"url(#clip550)\" d=\"M 0 0 M460.545 780.191 L476.865 780.191 L476.865 784.126 L454.92 784.126 L454.92 780.191 Q457.582 777.436 462.166 772.807 Q466.772 768.154 467.953 766.811 Q470.198 764.288 471.078 762.552 Q471.98 760.793 471.98 759.103 Q471.98 756.348 470.036 754.612 Q468.115 752.876 465.013 752.876 Q462.814 752.876 460.36 753.64 Q457.93 754.404 455.152 755.955 L455.152 751.233 Q457.976 750.098 460.43 749.52 Q462.883 748.941 464.92 748.941 Q470.291 748.941 473.485 751.626 Q476.679 754.311 476.679 758.802 Q476.679 760.932 475.869 762.853 Q475.082 764.751 472.976 767.344 Q472.397 768.015 469.295 771.233 Q466.193 774.427 460.545 780.191 Z\" fill=\"#000000\" fill-rule=\"evenodd\" fill-opacity=\"1\" /><path clip-path=\"url(#clip550)\" d=\"M 0 0 M469.735 477.651 Q473.092 478.369 474.967 480.637 Q476.865 482.906 476.865 486.239 Q476.865 491.355 473.346 494.156 Q469.828 496.957 463.346 496.957 Q461.17 496.957 458.855 496.517 Q456.564 496.1 454.11 495.244 L454.11 490.73 Q456.055 491.864 458.369 492.443 Q460.684 493.021 463.207 493.021 Q467.605 493.021 469.897 491.285 Q472.212 489.549 472.212 486.239 Q472.212 483.183 470.059 481.47 Q467.93 479.734 464.11 479.734 L460.082 479.734 L460.082 475.892 L464.295 475.892 Q467.744 475.892 469.573 474.526 Q471.402 473.137 471.402 470.545 Q471.402 467.883 469.504 466.471 Q467.629 465.035 464.11 465.035 Q462.189 465.035 459.99 465.452 Q457.791 465.869 455.152 466.748 L455.152 462.582 Q457.814 461.841 460.129 461.471 Q462.467 461.1 464.527 461.1 Q469.851 461.1 472.953 463.531 Q476.054 465.938 476.054 470.059 Q476.054 472.929 474.411 474.92 Q472.767 476.887 469.735 477.651 Z\" fill=\"#000000\" fill-rule=\"evenodd\" fill-opacity=\"1\" /><path clip-path=\"url(#clip550)\" d=\"M 0 0 M467.281 177.959 L455.476 196.407 L467.281 196.407 L467.281 177.959 M466.055 173.884 L471.934 173.884 L471.934 196.407 L476.865 196.407 L476.865 200.296 L471.934 200.296 L471.934 208.444 L467.281 208.444 L467.281 200.296 L451.68 200.296 L451.68 195.783 L466.055 173.884 Z\" fill=\"#000000\" fill-rule=\"evenodd\" fill-opacity=\"1\" /><circle clip-path=\"url(#clip552)\" cx=\"944.626\" cy=\"479.005\" r=\"14\" fill=\"#ff0000\" fill-rule=\"evenodd\" fill-opacity=\"1\" stroke=\"#000000\" stroke-opacity=\"1\" stroke-width=\"3.2\"/>\n",
       "<circle clip-path=\"url(#clip552)\" cx=\"1520.31\" cy=\"479.005\" r=\"14\" fill=\"#ff0000\" fill-rule=\"evenodd\" fill-opacity=\"1\" stroke=\"#000000\" stroke-opacity=\"1\" stroke-width=\"3.2\"/>\n",
       "<circle clip-path=\"url(#clip552)\" cx=\"1808.15\" cy=\"766.846\" r=\"14\" fill=\"#ff0000\" fill-rule=\"evenodd\" fill-opacity=\"1\" stroke=\"#000000\" stroke-opacity=\"1\" stroke-width=\"3.2\"/>\n",
       "<circle clip-path=\"url(#clip552)\" cx=\"656.785\" cy=\"1054.69\" r=\"14\" fill=\"#0000ff\" fill-rule=\"evenodd\" fill-opacity=\"1\" stroke=\"#000000\" stroke-opacity=\"1\" stroke-width=\"3.2\"/>\n",
       "<circle clip-path=\"url(#clip552)\" cx=\"944.626\" cy=\"766.846\" r=\"14\" fill=\"#0000ff\" fill-rule=\"evenodd\" fill-opacity=\"1\" stroke=\"#000000\" stroke-opacity=\"1\" stroke-width=\"3.2\"/>\n",
       "<circle clip-path=\"url(#clip552)\" cx=\"1232.47\" cy=\"1054.69\" r=\"14\" fill=\"#0000ff\" fill-rule=\"evenodd\" fill-opacity=\"1\" stroke=\"#000000\" stroke-opacity=\"1\" stroke-width=\"3.2\"/>\n",
       "<polyline clip-path=\"url(#clip552)\" style=\"stroke:#008000; stroke-width:12; stroke-opacity:1; fill:none\" stroke-dasharray=\"6, 12\" points=\"\n",
       "  -782.419,-1571.86 -754.309,-1536.72 -494.391,-1211.83 -338.191,-1016.58 -206.127,-851.495 -62.6673,-672.171 69.5896,-506.85 211.383,-329.608 375.664,-124.256 521.658,58.2364 \n",
       "  649.682,218.266 789.262,392.741 929.672,568.253 1084.91,762.304 1232.62,946.939 1386.2,1138.92 1515.49,1300.52 1673.33,1497.82 1821.7,1683.29 2059.41,1980.42 \n",
       "  2095.99,2026.15 \n",
       "  \"/>\n",
       "<polyline clip-path=\"url(#clip552)\" style=\"stroke:#ff00ff; stroke-width:12; stroke-opacity:1; fill:none\" stroke-dasharray=\"6, 12\" points=\"\n",
       "  -782.419,-1104.12 -754.309,-1076.01 -494.391,-816.091 -338.191,-659.892 -206.127,-527.827 -62.6673,-384.367 69.5896,-252.111 211.383,-110.317 375.664,53.9643 521.658,199.958 \n",
       "  649.682,327.982 789.262,467.562 929.672,607.972 1084.91,763.212 1232.62,910.92 1386.2,1064.5 1515.49,1193.79 1673.33,1351.63 1821.7,1500 2059.41,1737.71 \n",
       "  2095.99,1774.29 \n",
       "  \"/>\n",
       "</svg>\n"
      ]
     },
     "execution_count": 45,
     "metadata": {},
     "output_type": "execute_result"
    }
   ],
   "source": [
    "scatter(ratio = 1, leg = false)\n",
    "xlims!(-0.5, 4.5)\n",
    "ylims!(-0.5, 4.5)\n",
    "\n",
    "scatter!([A1[1,1:3]], [A1[2, 1:3]], c=:red)\n",
    "scatter!([A1[1,4:6]], [A1[2, 4:6]], c=:blue)\n",
    "plot!(x -> (-c-a.*x)/b, c=:green, lw = 3, ls=:dot)\n",
    "plot!(x -> (-c1-a1.*x)/b1, c=:magenta, lw = 3, ls=:dot)"
   ]
  },
  {
   "cell_type": "markdown",
   "metadata": {},
   "source": [
    "### 3ª Iteração"
   ]
  },
  {
   "cell_type": "markdown",
   "metadata": {},
   "source": [
    "Passo 1: Determinar $I(x_k)$ e $r_k$"
   ]
  },
  {
   "cell_type": "code",
   "execution_count": 46,
   "metadata": {},
   "outputs": [
    {
     "data": {
      "text/plain": [
       "1×6 Adjoint{Rational{Int64},Array{Rational{Int64},1}}:\n",
       " 1//1  5//1  5//1  5//1  1//1  1//1"
      ]
     },
     "execution_count": 46,
     "metadata": {},
     "output_type": "execute_result"
    }
   ],
   "source": [
    "wc = wc3\n",
    "wc'*A'"
   ]
  },
  {
   "cell_type": "markdown",
   "metadata": {},
   "source": [
    "Igual a 1? Sim,  \n",
    "$I(x_3) = 1,5,6$ e $r_3 = 3$"
   ]
  },
  {
   "cell_type": "code",
   "execution_count": 47,
   "metadata": {},
   "outputs": [],
   "source": [
    "Abar = [A[1,:] A[5,:] A[6,:]]';"
   ]
  },
  {
   "cell_type": "code",
   "execution_count": 48,
   "metadata": {},
   "outputs": [],
   "source": [
    "Abarᵀ = Abar';"
   ]
  },
  {
   "cell_type": "markdown",
   "metadata": {},
   "source": [
    "Resolvendo o problema: $\\min\\ \\tfrac{1}{2}\\Vert \\nabla f(x_0) - \\bar{A}^T\\lambda \\Vert^2$"
   ]
  },
  {
   "cell_type": "code",
   "execution_count": 49,
   "metadata": {},
   "outputs": [
    {
     "data": {
      "text/plain": [
       "3-element Array{Rational{Int64},1}:\n",
       "  4//1\n",
       "  6//1\n",
       " -2//1"
      ]
     },
     "execution_count": 49,
     "metadata": {},
     "output_type": "execute_result"
    }
   ],
   "source": [
    "λbar = rationalize.(Abarᵀ\\ ∇f(wc), tol=1e-8)"
   ]
  },
  {
   "cell_type": "markdown",
   "metadata": {},
   "source": [
    "Passo 2. Se $\\nabla f(x_k) = \\bar{A}^T \\bar{\\lambda}$, então verifique se $\\lambda \\geq 0$...\n"
   ]
  },
  {
   "cell_type": "code",
   "execution_count": 50,
   "metadata": {},
   "outputs": [
    {
     "data": {
      "text/plain": [
       "3-element Array{Rational{Int64},1}:\n",
       " 2//1\n",
       " 2//1\n",
       " 0//1"
      ]
     },
     "execution_count": 50,
     "metadata": {},
     "output_type": "execute_result"
    }
   ],
   "source": [
    "∇f(wc)"
   ]
  },
  {
   "cell_type": "code",
   "execution_count": 51,
   "metadata": {
    "scrolled": true
   },
   "outputs": [
    {
     "data": {
      "text/plain": [
       "3-element Array{Rational{Int64},1}:\n",
       " 2//1\n",
       " 2//1\n",
       " 0//1"
      ]
     },
     "execution_count": 51,
     "metadata": {},
     "output_type": "execute_result"
    }
   ],
   "source": [
    "Abarᵀ*λbar"
   ]
  },
  {
   "cell_type": "markdown",
   "metadata": {},
   "source": [
    "Opa... é igual... voltar ao passo 1.  \n",
    "Remover $\\lambda < 0$. $I(x_4) = 1,5$ e $r_k = 2$"
   ]
  },
  {
   "cell_type": "markdown",
   "metadata": {},
   "source": [
    "### 4ª Iteração"
   ]
  },
  {
   "cell_type": "markdown",
   "metadata": {},
   "source": [
    "Passo 1: Determinar $I(x_k)$ e $r_k$"
   ]
  },
  {
   "cell_type": "code",
   "execution_count": 52,
   "metadata": {},
   "outputs": [
    {
     "data": {
      "text/plain": [
       "1×6 Adjoint{Rational{Int64},Array{Rational{Int64},1}}:\n",
       " 1//1  5//1  5//1  5//1  1//1  1//1"
      ]
     },
     "execution_count": 52,
     "metadata": {},
     "output_type": "execute_result"
    }
   ],
   "source": [
    "wc = wc3\n",
    "wc'*A'"
   ]
  },
  {
   "cell_type": "code",
   "execution_count": 53,
   "metadata": {},
   "outputs": [
    {
     "data": {
      "text/plain": [
       "2×3 Adjoint{Int64,Array{Int64,2}}:\n",
       "  1   3   1\n",
       " -1  -2  -1"
      ]
     },
     "execution_count": 53,
     "metadata": {},
     "output_type": "execute_result"
    }
   ],
   "source": [
    "Abar = [A[1,:] A[5,:]]'"
   ]
  },
  {
   "cell_type": "code",
   "execution_count": 54,
   "metadata": {},
   "outputs": [
    {
     "data": {
      "text/plain": [
       "3×2 Array{Int64,2}:\n",
       " 1  -1\n",
       " 3  -2\n",
       " 1  -1"
      ]
     },
     "execution_count": 54,
     "metadata": {},
     "output_type": "execute_result"
    }
   ],
   "source": [
    "Abarᵀ = Abar'"
   ]
  },
  {
   "cell_type": "markdown",
   "metadata": {},
   "source": [
    "Resolvendo o problema: $\\min\\ \\tfrac{1}{2}\\Vert \\nabla f(x_0) - \\bar{A}^T\\lambda \\Vert^2$"
   ]
  },
  {
   "cell_type": "code",
   "execution_count": 55,
   "metadata": {},
   "outputs": [],
   "source": [
    "λbar = rationalize.(Abarᵀ\\ ∇f(wc), tol=1e-8);"
   ]
  },
  {
   "cell_type": "markdown",
   "metadata": {},
   "source": [
    "Passo 2. Se $\\nabla f(x_k) = \\bar{A}^T \\bar{\\lambda}$, então verifique se $\\lambda \\geq 0$:"
   ]
  },
  {
   "cell_type": "code",
   "execution_count": 56,
   "metadata": {},
   "outputs": [
    {
     "data": {
      "text/plain": [
       "3-element Array{Rational{Int64},1}:\n",
       " 2//1\n",
       " 2//1\n",
       " 0//1"
      ]
     },
     "execution_count": 56,
     "metadata": {},
     "output_type": "execute_result"
    }
   ],
   "source": [
    "∇f(wc)"
   ]
  },
  {
   "cell_type": "code",
   "execution_count": 57,
   "metadata": {},
   "outputs": [
    {
     "data": {
      "text/plain": [
       "3-element Array{Rational{Int64},1}:\n",
       " 1//1\n",
       " 2//1\n",
       " 1//1"
      ]
     },
     "execution_count": 57,
     "metadata": {},
     "output_type": "execute_result"
    }
   ],
   "source": [
    "Abarᵀ*λbar"
   ]
  },
  {
   "cell_type": "markdown",
   "metadata": {},
   "source": [
    "Não são iguais."
   ]
  },
  {
   "cell_type": "markdown",
   "metadata": {},
   "source": [
    "Passo 3. Calcule um passo de Newton para o problema..."
   ]
  },
  {
   "cell_type": "code",
   "execution_count": 58,
   "metadata": {},
   "outputs": [],
   "source": [
    "Hx = [I(2) zeros(2); zeros(3)'];"
   ]
  },
  {
   "cell_type": "code",
   "execution_count": 59,
   "metadata": {},
   "outputs": [],
   "source": [
    "LHS = [Hx -Abarᵀ; Abar zeros(2,2)];"
   ]
  },
  {
   "cell_type": "code",
   "execution_count": 60,
   "metadata": {},
   "outputs": [],
   "source": [
    "RHS = [Abarᵀ*λbar - ∇f(wc2); ones(2) - Abar*wc];"
   ]
  },
  {
   "cell_type": "code",
   "execution_count": 61,
   "metadata": {},
   "outputs": [],
   "source": [
    "ΔxΔλ = LHS \\ RHS;"
   ]
  },
  {
   "cell_type": "code",
   "execution_count": 62,
   "metadata": {},
   "outputs": [],
   "source": [
    "Δx, Δλ = ΔxΔλ[1:3], ΔxΔλ[4];"
   ]
  },
  {
   "cell_type": "markdown",
   "metadata": {},
   "source": [
    "Calcule o maior $\\alpha \\leq 1$ tal que $A(x_k+\\alpha\\Delta x) \\geq b$. "
   ]
  },
  {
   "cell_type": "markdown",
   "metadata": {},
   "source": [
    "Fazendo: $A x_k + \\alpha A \\Delta x \\geq b \\qquad \\Rightarrow \\qquad \\alpha \\geq \\dfrac{b-A x_k }{A \\Delta x}$ "
   ]
  },
  {
   "cell_type": "code",
   "execution_count": 63,
   "metadata": {},
   "outputs": [],
   "source": [
    "b = ones(6);"
   ]
  },
  {
   "cell_type": "code",
   "execution_count": 64,
   "metadata": {},
   "outputs": [
    {
     "data": {
      "text/plain": [
       "6-element Array{Float64,1}:\n",
       " NaN\n",
       "   0.6\n",
       "   0.4\n",
       "   1.2000000000000002\n",
       " NaN\n",
       "   0.0"
      ]
     },
     "execution_count": 64,
     "metadata": {},
     "output_type": "execute_result"
    }
   ],
   "source": [
    "α = (b- A*wc)./(A*Δx)"
   ]
  },
  {
   "cell_type": "code",
   "execution_count": 65,
   "metadata": {},
   "outputs": [],
   "source": [
    "α = rationalize.(α[3], tol=1e-8);"
   ]
  },
  {
   "cell_type": "markdown",
   "metadata": {},
   "source": [
    "Atualize $x_{k+1} = x_k + \\alpha \\Delta x$ "
   ]
  },
  {
   "cell_type": "code",
   "execution_count": 66,
   "metadata": {},
   "outputs": [
    {
     "data": {
      "text/plain": [
       "3-element Array{Rational{Int64},1}:\n",
       "   2//3\n",
       "   2//1\n",
       " -17//3"
      ]
     },
     "execution_count": 66,
     "metadata": {},
     "output_type": "execute_result"
    }
   ],
   "source": [
    "wc5 = rationalize.(wc + α*Δx, tol=1e-8)"
   ]
  },
  {
   "cell_type": "code",
   "execution_count": 67,
   "metadata": {},
   "outputs": [],
   "source": [
    "a, b, c = wc3[1:3]\n",
    "a1, b1, c1 = wc5[1:3];"
   ]
  },
  {
   "cell_type": "code",
   "execution_count": 68,
   "metadata": {
    "scrolled": false
   },
   "outputs": [
    {
     "data": {
      "image/svg+xml": [
       "<?xml version=\"1.0\" encoding=\"utf-8\"?>\n",
       "<svg xmlns=\"http://www.w3.org/2000/svg\" xmlns:xlink=\"http://www.w3.org/1999/xlink\" width=\"600\" height=\"400\" viewBox=\"0 0 2400 1600\">\n",
       "<defs>\n",
       "  <clipPath id=\"clip590\">\n",
       "    <rect x=\"0\" y=\"0\" width=\"2400\" height=\"1600\"/>\n",
       "  </clipPath>\n",
       "</defs>\n",
       "<path clip-path=\"url(#clip590)\" d=\"\n",
       "M0 1600 L2400 1600 L2400 0 L0 0  Z\n",
       "  \" fill=\"#ffffff\" fill-rule=\"evenodd\" fill-opacity=\"1\"/>\n",
       "<defs>\n",
       "  <clipPath id=\"clip591\">\n",
       "    <rect x=\"480\" y=\"0\" width=\"1681\" height=\"1600\"/>\n",
       "  </clipPath>\n",
       "</defs>\n",
       "<path clip-path=\"url(#clip590)\" d=\"\n",
       "M512.865 1486.45 L1952.07 1486.45 L1952.07 47.2441 L512.865 47.2441  Z\n",
       "  \" fill=\"#ffffff\" fill-rule=\"evenodd\" fill-opacity=\"1\"/>\n",
       "<defs>\n",
       "  <clipPath id=\"clip592\">\n",
       "    <rect x=\"512\" y=\"47\" width=\"1440\" height=\"1440\"/>\n",
       "  </clipPath>\n",
       "</defs>\n",
       "<polyline clip-path=\"url(#clip592)\" style=\"stroke:#000000; stroke-width:2; stroke-opacity:0.1; fill:none\" points=\"\n",
       "  656.785,1486.45 656.785,47.2441 \n",
       "  \"/>\n",
       "<polyline clip-path=\"url(#clip592)\" style=\"stroke:#000000; stroke-width:2; stroke-opacity:0.1; fill:none\" points=\"\n",
       "  944.626,1486.45 944.626,47.2441 \n",
       "  \"/>\n",
       "<polyline clip-path=\"url(#clip592)\" style=\"stroke:#000000; stroke-width:2; stroke-opacity:0.1; fill:none\" points=\"\n",
       "  1232.47,1486.45 1232.47,47.2441 \n",
       "  \"/>\n",
       "<polyline clip-path=\"url(#clip592)\" style=\"stroke:#000000; stroke-width:2; stroke-opacity:0.1; fill:none\" points=\"\n",
       "  1520.31,1486.45 1520.31,47.2441 \n",
       "  \"/>\n",
       "<polyline clip-path=\"url(#clip592)\" style=\"stroke:#000000; stroke-width:2; stroke-opacity:0.1; fill:none\" points=\"\n",
       "  1808.15,1486.45 1808.15,47.2441 \n",
       "  \"/>\n",
       "<polyline clip-path=\"url(#clip590)\" style=\"stroke:#000000; stroke-width:4; stroke-opacity:1; fill:none\" points=\"\n",
       "  512.865,1486.45 1952.07,1486.45 \n",
       "  \"/>\n",
       "<polyline clip-path=\"url(#clip590)\" style=\"stroke:#000000; stroke-width:4; stroke-opacity:1; fill:none\" points=\"\n",
       "  656.785,1486.45 656.785,1469.18 \n",
       "  \"/>\n",
       "<polyline clip-path=\"url(#clip590)\" style=\"stroke:#000000; stroke-width:4; stroke-opacity:1; fill:none\" points=\"\n",
       "  944.626,1486.45 944.626,1469.18 \n",
       "  \"/>\n",
       "<polyline clip-path=\"url(#clip590)\" style=\"stroke:#000000; stroke-width:4; stroke-opacity:1; fill:none\" points=\"\n",
       "  1232.47,1486.45 1232.47,1469.18 \n",
       "  \"/>\n",
       "<polyline clip-path=\"url(#clip590)\" style=\"stroke:#000000; stroke-width:4; stroke-opacity:1; fill:none\" points=\"\n",
       "  1520.31,1486.45 1520.31,1469.18 \n",
       "  \"/>\n",
       "<polyline clip-path=\"url(#clip590)\" style=\"stroke:#000000; stroke-width:4; stroke-opacity:1; fill:none\" points=\"\n",
       "  1808.15,1486.45 1808.15,1469.18 \n",
       "  \"/>\n",
       "<path clip-path=\"url(#clip590)\" d=\"M 0 0 M656.785 1515.64 Q653.174 1515.64 651.345 1519.2 Q649.54 1522.75 649.54 1529.87 Q649.54 1536.98 651.345 1540.55 Q653.174 1544.09 656.785 1544.09 Q660.419 1544.09 662.225 1540.55 Q664.054 1536.98 664.054 1529.87 Q664.054 1522.75 662.225 1519.2 Q660.419 1515.64 656.785 1515.64 M656.785 1511.93 Q662.595 1511.93 665.651 1516.54 Q668.729 1521.12 668.729 1529.87 Q668.729 1538.6 665.651 1543.21 Q662.595 1547.79 656.785 1547.79 Q650.975 1547.79 647.896 1543.21 Q644.841 1538.6 644.841 1529.87 Q644.841 1521.12 647.896 1516.54 Q650.975 1511.93 656.785 1511.93 Z\" fill=\"#000000\" fill-rule=\"evenodd\" fill-opacity=\"1\" /><path clip-path=\"url(#clip590)\" d=\"M 0 0 M935.008 1543.18 L942.647 1543.18 L942.647 1516.82 L934.336 1518.49 L934.336 1514.23 L942.6 1512.56 L947.276 1512.56 L947.276 1543.18 L954.915 1543.18 L954.915 1547.12 L935.008 1547.12 L935.008 1543.18 Z\" fill=\"#000000\" fill-rule=\"evenodd\" fill-opacity=\"1\" /><path clip-path=\"url(#clip590)\" d=\"M 0 0 M1227.12 1543.18 L1243.44 1543.18 L1243.44 1547.12 L1221.49 1547.12 L1221.49 1543.18 Q1224.16 1540.43 1228.74 1535.8 Q1233.35 1531.15 1234.53 1529.81 Q1236.77 1527.28 1237.65 1525.55 Q1238.55 1523.79 1238.55 1522.1 Q1238.55 1519.34 1236.61 1517.61 Q1234.69 1515.87 1231.59 1515.87 Q1229.39 1515.87 1226.93 1516.63 Q1224.5 1517.4 1221.73 1518.95 L1221.73 1514.23 Q1224.55 1513.09 1227 1512.51 Q1229.46 1511.93 1231.49 1511.93 Q1236.86 1511.93 1240.06 1514.62 Q1243.25 1517.31 1243.25 1521.8 Q1243.25 1523.93 1242.44 1525.85 Q1241.66 1527.74 1239.55 1530.34 Q1238.97 1531.01 1235.87 1534.23 Q1232.77 1537.42 1227.12 1543.18 Z\" fill=\"#000000\" fill-rule=\"evenodd\" fill-opacity=\"1\" /><path clip-path=\"url(#clip590)\" d=\"M 0 0 M1524.55 1528.49 Q1527.91 1529.2 1529.79 1531.47 Q1531.68 1533.74 1531.68 1537.07 Q1531.68 1542.19 1528.17 1544.99 Q1524.65 1547.79 1518.17 1547.79 Q1515.99 1547.79 1513.68 1547.35 Q1511.38 1546.93 1508.93 1546.08 L1508.93 1541.56 Q1510.87 1542.7 1513.19 1543.28 Q1515.5 1543.86 1518.03 1543.86 Q1522.43 1543.86 1524.72 1542.12 Q1527.03 1540.38 1527.03 1537.07 Q1527.03 1534.02 1524.88 1532.31 Q1522.75 1530.57 1518.93 1530.57 L1514.9 1530.57 L1514.9 1526.73 L1519.12 1526.73 Q1522.56 1526.73 1524.39 1525.36 Q1526.22 1523.97 1526.22 1521.38 Q1526.22 1518.72 1524.32 1517.31 Q1522.45 1515.87 1518.93 1515.87 Q1517.01 1515.87 1514.81 1516.29 Q1512.61 1516.7 1509.97 1517.58 L1509.97 1513.42 Q1512.63 1512.68 1514.95 1512.31 Q1517.29 1511.93 1519.35 1511.93 Q1524.67 1511.93 1527.77 1514.37 Q1530.87 1516.77 1530.87 1520.89 Q1530.87 1523.76 1529.23 1525.75 Q1527.59 1527.72 1524.55 1528.49 Z\" fill=\"#000000\" fill-rule=\"evenodd\" fill-opacity=\"1\" /><path clip-path=\"url(#clip590)\" d=\"M 0 0 M1811.16 1516.63 L1799.35 1535.08 L1811.16 1535.08 L1811.16 1516.63 M1809.93 1512.56 L1815.81 1512.56 L1815.81 1535.08 L1820.74 1535.08 L1820.74 1538.97 L1815.81 1538.97 L1815.81 1547.12 L1811.16 1547.12 L1811.16 1538.97 L1795.56 1538.97 L1795.56 1534.46 L1809.93 1512.56 Z\" fill=\"#000000\" fill-rule=\"evenodd\" fill-opacity=\"1\" /><polyline clip-path=\"url(#clip592)\" style=\"stroke:#000000; stroke-width:2; stroke-opacity:0.1; fill:none\" points=\"\n",
       "  512.865,1342.53 1952.07,1342.53 \n",
       "  \"/>\n",
       "<polyline clip-path=\"url(#clip592)\" style=\"stroke:#000000; stroke-width:2; stroke-opacity:0.1; fill:none\" points=\"\n",
       "  512.865,1054.69 1952.07,1054.69 \n",
       "  \"/>\n",
       "<polyline clip-path=\"url(#clip592)\" style=\"stroke:#000000; stroke-width:2; stroke-opacity:0.1; fill:none\" points=\"\n",
       "  512.865,766.846 1952.07,766.846 \n",
       "  \"/>\n",
       "<polyline clip-path=\"url(#clip592)\" style=\"stroke:#000000; stroke-width:2; stroke-opacity:0.1; fill:none\" points=\"\n",
       "  512.865,479.005 1952.07,479.005 \n",
       "  \"/>\n",
       "<polyline clip-path=\"url(#clip592)\" style=\"stroke:#000000; stroke-width:2; stroke-opacity:0.1; fill:none\" points=\"\n",
       "  512.865,191.164 1952.07,191.164 \n",
       "  \"/>\n",
       "<polyline clip-path=\"url(#clip590)\" style=\"stroke:#000000; stroke-width:4; stroke-opacity:1; fill:none\" points=\"\n",
       "  512.865,1486.45 512.865,47.2441 \n",
       "  \"/>\n",
       "<polyline clip-path=\"url(#clip590)\" style=\"stroke:#000000; stroke-width:4; stroke-opacity:1; fill:none\" points=\"\n",
       "  512.865,1342.53 530.135,1342.53 \n",
       "  \"/>\n",
       "<polyline clip-path=\"url(#clip590)\" style=\"stroke:#000000; stroke-width:4; stroke-opacity:1; fill:none\" points=\"\n",
       "  512.865,1054.69 530.135,1054.69 \n",
       "  \"/>\n",
       "<polyline clip-path=\"url(#clip590)\" style=\"stroke:#000000; stroke-width:4; stroke-opacity:1; fill:none\" points=\"\n",
       "  512.865,766.846 530.135,766.846 \n",
       "  \"/>\n",
       "<polyline clip-path=\"url(#clip590)\" style=\"stroke:#000000; stroke-width:4; stroke-opacity:1; fill:none\" points=\"\n",
       "  512.865,479.005 530.135,479.005 \n",
       "  \"/>\n",
       "<polyline clip-path=\"url(#clip590)\" style=\"stroke:#000000; stroke-width:4; stroke-opacity:1; fill:none\" points=\"\n",
       "  512.865,191.164 530.135,191.164 \n",
       "  \"/>\n",
       "<path clip-path=\"url(#clip590)\" d=\"M 0 0 M464.92 1328.33 Q461.309 1328.33 459.48 1331.89 Q457.675 1335.43 457.675 1342.56 Q457.675 1349.67 459.48 1353.23 Q461.309 1356.78 464.92 1356.78 Q468.555 1356.78 470.36 1353.23 Q472.189 1349.67 472.189 1342.56 Q472.189 1335.43 470.36 1331.89 Q468.555 1328.33 464.92 1328.33 M464.92 1324.62 Q470.73 1324.62 473.786 1329.23 Q476.865 1333.81 476.865 1342.56 Q476.865 1351.29 473.786 1355.9 Q470.73 1360.48 464.92 1360.48 Q459.11 1360.48 456.031 1355.9 Q452.976 1351.29 452.976 1342.56 Q452.976 1333.81 456.031 1329.23 Q459.11 1324.62 464.92 1324.62 Z\" fill=\"#000000\" fill-rule=\"evenodd\" fill-opacity=\"1\" /><path clip-path=\"url(#clip590)\" d=\"M 0 0 M456.957 1068.03 L464.596 1068.03 L464.596 1041.67 L456.286 1043.33 L456.286 1039.07 L464.55 1037.41 L469.226 1037.41 L469.226 1068.03 L476.865 1068.03 L476.865 1071.97 L456.957 1071.97 L456.957 1068.03 Z\" fill=\"#000000\" fill-rule=\"evenodd\" fill-opacity=\"1\" /><path clip-path=\"url(#clip590)\" d=\"M 0 0 M460.545 780.191 L476.865 780.191 L476.865 784.126 L454.92 784.126 L454.92 780.191 Q457.582 777.436 462.166 772.807 Q466.772 768.154 467.953 766.811 Q470.198 764.288 471.078 762.552 Q471.98 760.793 471.98 759.103 Q471.98 756.348 470.036 754.612 Q468.115 752.876 465.013 752.876 Q462.814 752.876 460.36 753.64 Q457.93 754.404 455.152 755.955 L455.152 751.233 Q457.976 750.098 460.43 749.52 Q462.883 748.941 464.92 748.941 Q470.291 748.941 473.485 751.626 Q476.679 754.311 476.679 758.802 Q476.679 760.932 475.869 762.853 Q475.082 764.751 472.976 767.344 Q472.397 768.015 469.295 771.233 Q466.193 774.427 460.545 780.191 Z\" fill=\"#000000\" fill-rule=\"evenodd\" fill-opacity=\"1\" /><path clip-path=\"url(#clip590)\" d=\"M 0 0 M469.735 477.651 Q473.092 478.369 474.967 480.637 Q476.865 482.906 476.865 486.239 Q476.865 491.355 473.346 494.156 Q469.828 496.957 463.346 496.957 Q461.17 496.957 458.855 496.517 Q456.564 496.1 454.11 495.244 L454.11 490.73 Q456.055 491.864 458.369 492.443 Q460.684 493.021 463.207 493.021 Q467.605 493.021 469.897 491.285 Q472.212 489.549 472.212 486.239 Q472.212 483.183 470.059 481.47 Q467.93 479.734 464.11 479.734 L460.082 479.734 L460.082 475.892 L464.295 475.892 Q467.744 475.892 469.573 474.526 Q471.402 473.137 471.402 470.545 Q471.402 467.883 469.504 466.471 Q467.629 465.035 464.11 465.035 Q462.189 465.035 459.99 465.452 Q457.791 465.869 455.152 466.748 L455.152 462.582 Q457.814 461.841 460.129 461.471 Q462.467 461.1 464.527 461.1 Q469.851 461.1 472.953 463.531 Q476.054 465.938 476.054 470.059 Q476.054 472.929 474.411 474.92 Q472.767 476.887 469.735 477.651 Z\" fill=\"#000000\" fill-rule=\"evenodd\" fill-opacity=\"1\" /><path clip-path=\"url(#clip590)\" d=\"M 0 0 M467.281 177.959 L455.476 196.407 L467.281 196.407 L467.281 177.959 M466.055 173.884 L471.934 173.884 L471.934 196.407 L476.865 196.407 L476.865 200.296 L471.934 200.296 L471.934 208.444 L467.281 208.444 L467.281 200.296 L451.68 200.296 L451.68 195.783 L466.055 173.884 Z\" fill=\"#000000\" fill-rule=\"evenodd\" fill-opacity=\"1\" /><circle clip-path=\"url(#clip592)\" cx=\"944.626\" cy=\"479.005\" r=\"14\" fill=\"#ff0000\" fill-rule=\"evenodd\" fill-opacity=\"1\" stroke=\"#000000\" stroke-opacity=\"1\" stroke-width=\"3.2\"/>\n",
       "<circle clip-path=\"url(#clip592)\" cx=\"1520.31\" cy=\"479.005\" r=\"14\" fill=\"#ff0000\" fill-rule=\"evenodd\" fill-opacity=\"1\" stroke=\"#000000\" stroke-opacity=\"1\" stroke-width=\"3.2\"/>\n",
       "<circle clip-path=\"url(#clip592)\" cx=\"1808.15\" cy=\"766.846\" r=\"14\" fill=\"#ff0000\" fill-rule=\"evenodd\" fill-opacity=\"1\" stroke=\"#000000\" stroke-opacity=\"1\" stroke-width=\"3.2\"/>\n",
       "<circle clip-path=\"url(#clip592)\" cx=\"656.785\" cy=\"1054.69\" r=\"14\" fill=\"#0000ff\" fill-rule=\"evenodd\" fill-opacity=\"1\" stroke=\"#000000\" stroke-opacity=\"1\" stroke-width=\"3.2\"/>\n",
       "<circle clip-path=\"url(#clip592)\" cx=\"944.626\" cy=\"766.846\" r=\"14\" fill=\"#0000ff\" fill-rule=\"evenodd\" fill-opacity=\"1\" stroke=\"#000000\" stroke-opacity=\"1\" stroke-width=\"3.2\"/>\n",
       "<circle clip-path=\"url(#clip592)\" cx=\"1232.47\" cy=\"1054.69\" r=\"14\" fill=\"#0000ff\" fill-rule=\"evenodd\" fill-opacity=\"1\" stroke=\"#000000\" stroke-opacity=\"1\" stroke-width=\"3.2\"/>\n",
       "<polyline clip-path=\"url(#clip592)\" style=\"stroke:#008000; stroke-width:12; stroke-opacity:1; fill:none\" stroke-dasharray=\"6, 12\" points=\"\n",
       "  -782.419,-1104.12 -754.309,-1076.01 -494.391,-816.091 -338.191,-659.892 -206.127,-527.827 -62.6673,-384.367 69.5896,-252.111 211.383,-110.317 375.664,53.9643 521.658,199.958 \n",
       "  649.682,327.982 789.262,467.562 929.672,607.972 1084.91,763.212 1232.62,910.92 1386.2,1064.5 1515.49,1193.79 1673.33,1351.63 1821.7,1500 2059.41,1737.71 \n",
       "  2095.99,1774.29 \n",
       "  \"/>\n",
       "<polyline clip-path=\"url(#clip592)\" style=\"stroke:#ff00ff; stroke-width:8; stroke-opacity:1; fill:none\" stroke-dasharray=\"32, 20\" points=\"\n",
       "  -782.419,47.2441 -754.309,56.6141 -494.391,143.253 -338.191,195.32 -206.127,239.341 -62.6673,287.161 69.5896,331.247 211.383,378.511 375.664,433.272 521.658,481.937 \n",
       "  649.682,524.611 789.262,571.138 929.672,617.941 1084.91,669.688 1232.62,718.924 1386.2,770.118 1515.49,813.212 1673.33,865.825 1821.7,915.284 2059.41,994.519 \n",
       "  2095.99,1006.71 \n",
       "  \"/>\n",
       "</svg>\n"
      ]
     },
     "execution_count": 68,
     "metadata": {},
     "output_type": "execute_result"
    }
   ],
   "source": [
    "scatter(ratio = 1, leg = false)\n",
    "xlims!(-0.5, 4.5)\n",
    "ylims!(-0.5, 4.5)\n",
    "\n",
    "scatter!([A1[1,1:3]], [A1[2, 1:3]], c=:red)\n",
    "scatter!([A1[1,4:6]], [A1[2, 4:6]], c=:blue)\n",
    "plot!(x -> (-c-a.*x)/b, c=:green, lw = 3, ls=:dot)\n",
    "plot!(x -> (-c1-a1.*x)/b1, c=:magenta, lw = 2, ls=:dash)"
   ]
  },
  {
   "cell_type": "markdown",
   "metadata": {},
   "source": [
    "### 5ª Iteração"
   ]
  },
  {
   "cell_type": "markdown",
   "metadata": {},
   "source": [
    "Passo 1: Determinar $I(x_k)$ e $r_k$"
   ]
  },
  {
   "cell_type": "code",
   "execution_count": 69,
   "metadata": {
    "scrolled": true
   },
   "outputs": [
    {
     "data": {
      "text/plain": [
       "1×6 Adjoint{Rational{Int64},Array{Rational{Int64},1}}:\n",
       " 1//1  7//3  1//1  11//3  1//1  7//3"
      ]
     },
     "execution_count": 69,
     "metadata": {},
     "output_type": "execute_result"
    }
   ],
   "source": [
    "wc = wc5\n",
    "wc'*A'"
   ]
  },
  {
   "cell_type": "markdown",
   "metadata": {},
   "source": [
    " $I(x_5) = \\{1, 3, 5\\}$ e $r_5 = 3$"
   ]
  },
  {
   "cell_type": "code",
   "execution_count": 70,
   "metadata": {},
   "outputs": [],
   "source": [
    "Abar = [A[1,:] A[3,:] A[5,:]]';"
   ]
  },
  {
   "cell_type": "code",
   "execution_count": 71,
   "metadata": {},
   "outputs": [],
   "source": [
    "Abarᵀ = Abar';"
   ]
  },
  {
   "cell_type": "markdown",
   "metadata": {},
   "source": [
    "Resolvendo o problema: $\\min\\ \\tfrac{1}{2}\\Vert \\nabla f(x_0) - \\bar{A}^T\\lambda \\Vert^2$"
   ]
  },
  {
   "cell_type": "code",
   "execution_count": 72,
   "metadata": {},
   "outputs": [
    {
     "data": {
      "text/plain": [
       "3-element Array{Rational{Int64},1}:\n",
       "  2//1\n",
       "  2//9\n",
       " 20//9"
      ]
     },
     "execution_count": 72,
     "metadata": {},
     "output_type": "execute_result"
    }
   ],
   "source": [
    "λbar = rationalize.(Abarᵀ\\ ∇f(wc), tol=1e-8)"
   ]
  },
  {
   "cell_type": "markdown",
   "metadata": {},
   "source": [
    "Passo 2. Se $\\nabla f(x_k) = \\bar{A}^T \\bar{\\lambda}$, então verifique se $\\lambda \\geq 0$, ..."
   ]
  },
  {
   "cell_type": "code",
   "execution_count": 73,
   "metadata": {},
   "outputs": [
    {
     "data": {
      "text/plain": [
       "3-element Array{Rational{Int64},1}:\n",
       " 2//3\n",
       " 2//1\n",
       " 0//1"
      ]
     },
     "execution_count": 73,
     "metadata": {},
     "output_type": "execute_result"
    }
   ],
   "source": [
    "∇f(wc)"
   ]
  },
  {
   "cell_type": "code",
   "execution_count": 74,
   "metadata": {},
   "outputs": [
    {
     "data": {
      "text/plain": [
       "3-element Array{Rational{Int64},1}:\n",
       " 2//3\n",
       " 2//1\n",
       " 0//1"
      ]
     },
     "execution_count": 74,
     "metadata": {},
     "output_type": "execute_result"
    }
   ],
   "source": [
    "Abarᵀ*λbar"
   ]
  },
  {
   "cell_type": "markdown",
   "metadata": {},
   "source": [
    "Como $\\nabla f(x_k) = \\bar{A}^T \\bar{\\lambda}$ e $\\lambda \\geq 0$. FIM"
   ]
  },
  {
   "cell_type": "markdown",
   "metadata": {},
   "source": [
    "Imprimindo os resultados:"
   ]
  },
  {
   "cell_type": "code",
   "execution_count": 75,
   "metadata": {},
   "outputs": [
    {
     "data": {
      "text/plain": [
       "3×4 Array{Rational{Int64},2}:\n",
       "   5//1   10//3   2//1    2//3\n",
       "   4//1    8//3   2//1    2//1\n",
       " -15//1  -31//3  -7//1  -17//3"
      ]
     },
     "execution_count": 75,
     "metadata": {},
     "output_type": "execute_result"
    }
   ],
   "source": [
    "ABC = [wc1[1:3] wc2[1:3] wc3[1:3] wc5[1:3]]"
   ]
  },
  {
   "cell_type": "code",
   "execution_count": 76,
   "metadata": {
    "scrolled": false
   },
   "outputs": [
    {
     "data": {
      "image/svg+xml": [
       "<?xml version=\"1.0\" encoding=\"utf-8\"?>\n",
       "<svg xmlns=\"http://www.w3.org/2000/svg\" xmlns:xlink=\"http://www.w3.org/1999/xlink\" width=\"600\" height=\"400\" viewBox=\"0 0 2400 1600\">\n",
       "<defs>\n",
       "  <clipPath id=\"clip630\">\n",
       "    <rect x=\"0\" y=\"0\" width=\"2400\" height=\"1600\"/>\n",
       "  </clipPath>\n",
       "</defs>\n",
       "<path clip-path=\"url(#clip630)\" d=\"\n",
       "M0 1600 L2400 1600 L2400 0 L0 0  Z\n",
       "  \" fill=\"#ffffff\" fill-rule=\"evenodd\" fill-opacity=\"1\"/>\n",
       "<defs>\n",
       "  <clipPath id=\"clip631\">\n",
       "    <rect x=\"480\" y=\"0\" width=\"1681\" height=\"1600\"/>\n",
       "  </clipPath>\n",
       "</defs>\n",
       "<path clip-path=\"url(#clip630)\" d=\"\n",
       "M512.865 1486.45 L1952.07 1486.45 L1952.07 47.2441 L512.865 47.2441  Z\n",
       "  \" fill=\"#ffffff\" fill-rule=\"evenodd\" fill-opacity=\"1\"/>\n",
       "<defs>\n",
       "  <clipPath id=\"clip632\">\n",
       "    <rect x=\"512\" y=\"47\" width=\"1440\" height=\"1440\"/>\n",
       "  </clipPath>\n",
       "</defs>\n",
       "<polyline clip-path=\"url(#clip632)\" style=\"stroke:#000000; stroke-width:2; stroke-opacity:0.1; fill:none\" points=\"\n",
       "  656.785,1486.45 656.785,47.2441 \n",
       "  \"/>\n",
       "<polyline clip-path=\"url(#clip632)\" style=\"stroke:#000000; stroke-width:2; stroke-opacity:0.1; fill:none\" points=\"\n",
       "  944.626,1486.45 944.626,47.2441 \n",
       "  \"/>\n",
       "<polyline clip-path=\"url(#clip632)\" style=\"stroke:#000000; stroke-width:2; stroke-opacity:0.1; fill:none\" points=\"\n",
       "  1232.47,1486.45 1232.47,47.2441 \n",
       "  \"/>\n",
       "<polyline clip-path=\"url(#clip632)\" style=\"stroke:#000000; stroke-width:2; stroke-opacity:0.1; fill:none\" points=\"\n",
       "  1520.31,1486.45 1520.31,47.2441 \n",
       "  \"/>\n",
       "<polyline clip-path=\"url(#clip632)\" style=\"stroke:#000000; stroke-width:2; stroke-opacity:0.1; fill:none\" points=\"\n",
       "  1808.15,1486.45 1808.15,47.2441 \n",
       "  \"/>\n",
       "<polyline clip-path=\"url(#clip630)\" style=\"stroke:#000000; stroke-width:4; stroke-opacity:1; fill:none\" points=\"\n",
       "  512.865,1486.45 1952.07,1486.45 \n",
       "  \"/>\n",
       "<polyline clip-path=\"url(#clip630)\" style=\"stroke:#000000; stroke-width:4; stroke-opacity:1; fill:none\" points=\"\n",
       "  656.785,1486.45 656.785,1469.18 \n",
       "  \"/>\n",
       "<polyline clip-path=\"url(#clip630)\" style=\"stroke:#000000; stroke-width:4; stroke-opacity:1; fill:none\" points=\"\n",
       "  944.626,1486.45 944.626,1469.18 \n",
       "  \"/>\n",
       "<polyline clip-path=\"url(#clip630)\" style=\"stroke:#000000; stroke-width:4; stroke-opacity:1; fill:none\" points=\"\n",
       "  1232.47,1486.45 1232.47,1469.18 \n",
       "  \"/>\n",
       "<polyline clip-path=\"url(#clip630)\" style=\"stroke:#000000; stroke-width:4; stroke-opacity:1; fill:none\" points=\"\n",
       "  1520.31,1486.45 1520.31,1469.18 \n",
       "  \"/>\n",
       "<polyline clip-path=\"url(#clip630)\" style=\"stroke:#000000; stroke-width:4; stroke-opacity:1; fill:none\" points=\"\n",
       "  1808.15,1486.45 1808.15,1469.18 \n",
       "  \"/>\n",
       "<path clip-path=\"url(#clip630)\" d=\"M 0 0 M656.785 1515.64 Q653.174 1515.64 651.345 1519.2 Q649.54 1522.75 649.54 1529.87 Q649.54 1536.98 651.345 1540.55 Q653.174 1544.09 656.785 1544.09 Q660.419 1544.09 662.225 1540.55 Q664.054 1536.98 664.054 1529.87 Q664.054 1522.75 662.225 1519.2 Q660.419 1515.64 656.785 1515.64 M656.785 1511.93 Q662.595 1511.93 665.651 1516.54 Q668.729 1521.12 668.729 1529.87 Q668.729 1538.6 665.651 1543.21 Q662.595 1547.79 656.785 1547.79 Q650.975 1547.79 647.896 1543.21 Q644.841 1538.6 644.841 1529.87 Q644.841 1521.12 647.896 1516.54 Q650.975 1511.93 656.785 1511.93 Z\" fill=\"#000000\" fill-rule=\"evenodd\" fill-opacity=\"1\" /><path clip-path=\"url(#clip630)\" d=\"M 0 0 M935.008 1543.18 L942.647 1543.18 L942.647 1516.82 L934.336 1518.49 L934.336 1514.23 L942.6 1512.56 L947.276 1512.56 L947.276 1543.18 L954.915 1543.18 L954.915 1547.12 L935.008 1547.12 L935.008 1543.18 Z\" fill=\"#000000\" fill-rule=\"evenodd\" fill-opacity=\"1\" /><path clip-path=\"url(#clip630)\" d=\"M 0 0 M1227.12 1543.18 L1243.44 1543.18 L1243.44 1547.12 L1221.49 1547.12 L1221.49 1543.18 Q1224.16 1540.43 1228.74 1535.8 Q1233.35 1531.15 1234.53 1529.81 Q1236.77 1527.28 1237.65 1525.55 Q1238.55 1523.79 1238.55 1522.1 Q1238.55 1519.34 1236.61 1517.61 Q1234.69 1515.87 1231.59 1515.87 Q1229.39 1515.87 1226.93 1516.63 Q1224.5 1517.4 1221.73 1518.95 L1221.73 1514.23 Q1224.55 1513.09 1227 1512.51 Q1229.46 1511.93 1231.49 1511.93 Q1236.86 1511.93 1240.06 1514.62 Q1243.25 1517.31 1243.25 1521.8 Q1243.25 1523.93 1242.44 1525.85 Q1241.66 1527.74 1239.55 1530.34 Q1238.97 1531.01 1235.87 1534.23 Q1232.77 1537.42 1227.12 1543.18 Z\" fill=\"#000000\" fill-rule=\"evenodd\" fill-opacity=\"1\" /><path clip-path=\"url(#clip630)\" d=\"M 0 0 M1524.55 1528.49 Q1527.91 1529.2 1529.79 1531.47 Q1531.68 1533.74 1531.68 1537.07 Q1531.68 1542.19 1528.17 1544.99 Q1524.65 1547.79 1518.17 1547.79 Q1515.99 1547.79 1513.68 1547.35 Q1511.38 1546.93 1508.93 1546.08 L1508.93 1541.56 Q1510.87 1542.7 1513.19 1543.28 Q1515.5 1543.86 1518.03 1543.86 Q1522.43 1543.86 1524.72 1542.12 Q1527.03 1540.38 1527.03 1537.07 Q1527.03 1534.02 1524.88 1532.31 Q1522.75 1530.57 1518.93 1530.57 L1514.9 1530.57 L1514.9 1526.73 L1519.12 1526.73 Q1522.56 1526.73 1524.39 1525.36 Q1526.22 1523.97 1526.22 1521.38 Q1526.22 1518.72 1524.32 1517.31 Q1522.45 1515.87 1518.93 1515.87 Q1517.01 1515.87 1514.81 1516.29 Q1512.61 1516.7 1509.97 1517.58 L1509.97 1513.42 Q1512.63 1512.68 1514.95 1512.31 Q1517.29 1511.93 1519.35 1511.93 Q1524.67 1511.93 1527.77 1514.37 Q1530.87 1516.77 1530.87 1520.89 Q1530.87 1523.76 1529.23 1525.75 Q1527.59 1527.72 1524.55 1528.49 Z\" fill=\"#000000\" fill-rule=\"evenodd\" fill-opacity=\"1\" /><path clip-path=\"url(#clip630)\" d=\"M 0 0 M1811.16 1516.63 L1799.35 1535.08 L1811.16 1535.08 L1811.16 1516.63 M1809.93 1512.56 L1815.81 1512.56 L1815.81 1535.08 L1820.74 1535.08 L1820.74 1538.97 L1815.81 1538.97 L1815.81 1547.12 L1811.16 1547.12 L1811.16 1538.97 L1795.56 1538.97 L1795.56 1534.46 L1809.93 1512.56 Z\" fill=\"#000000\" fill-rule=\"evenodd\" fill-opacity=\"1\" /><polyline clip-path=\"url(#clip632)\" style=\"stroke:#000000; stroke-width:2; stroke-opacity:0.1; fill:none\" points=\"\n",
       "  512.865,1342.53 1952.07,1342.53 \n",
       "  \"/>\n",
       "<polyline clip-path=\"url(#clip632)\" style=\"stroke:#000000; stroke-width:2; stroke-opacity:0.1; fill:none\" points=\"\n",
       "  512.865,1054.69 1952.07,1054.69 \n",
       "  \"/>\n",
       "<polyline clip-path=\"url(#clip632)\" style=\"stroke:#000000; stroke-width:2; stroke-opacity:0.1; fill:none\" points=\"\n",
       "  512.865,766.846 1952.07,766.846 \n",
       "  \"/>\n",
       "<polyline clip-path=\"url(#clip632)\" style=\"stroke:#000000; stroke-width:2; stroke-opacity:0.1; fill:none\" points=\"\n",
       "  512.865,479.005 1952.07,479.005 \n",
       "  \"/>\n",
       "<polyline clip-path=\"url(#clip632)\" style=\"stroke:#000000; stroke-width:2; stroke-opacity:0.1; fill:none\" points=\"\n",
       "  512.865,191.164 1952.07,191.164 \n",
       "  \"/>\n",
       "<polyline clip-path=\"url(#clip630)\" style=\"stroke:#000000; stroke-width:4; stroke-opacity:1; fill:none\" points=\"\n",
       "  512.865,1486.45 512.865,47.2441 \n",
       "  \"/>\n",
       "<polyline clip-path=\"url(#clip630)\" style=\"stroke:#000000; stroke-width:4; stroke-opacity:1; fill:none\" points=\"\n",
       "  512.865,1342.53 530.135,1342.53 \n",
       "  \"/>\n",
       "<polyline clip-path=\"url(#clip630)\" style=\"stroke:#000000; stroke-width:4; stroke-opacity:1; fill:none\" points=\"\n",
       "  512.865,1054.69 530.135,1054.69 \n",
       "  \"/>\n",
       "<polyline clip-path=\"url(#clip630)\" style=\"stroke:#000000; stroke-width:4; stroke-opacity:1; fill:none\" points=\"\n",
       "  512.865,766.846 530.135,766.846 \n",
       "  \"/>\n",
       "<polyline clip-path=\"url(#clip630)\" style=\"stroke:#000000; stroke-width:4; stroke-opacity:1; fill:none\" points=\"\n",
       "  512.865,479.005 530.135,479.005 \n",
       "  \"/>\n",
       "<polyline clip-path=\"url(#clip630)\" style=\"stroke:#000000; stroke-width:4; stroke-opacity:1; fill:none\" points=\"\n",
       "  512.865,191.164 530.135,191.164 \n",
       "  \"/>\n",
       "<path clip-path=\"url(#clip630)\" d=\"M 0 0 M464.92 1328.33 Q461.309 1328.33 459.48 1331.89 Q457.675 1335.43 457.675 1342.56 Q457.675 1349.67 459.48 1353.23 Q461.309 1356.78 464.92 1356.78 Q468.555 1356.78 470.36 1353.23 Q472.189 1349.67 472.189 1342.56 Q472.189 1335.43 470.36 1331.89 Q468.555 1328.33 464.92 1328.33 M464.92 1324.62 Q470.73 1324.62 473.786 1329.23 Q476.865 1333.81 476.865 1342.56 Q476.865 1351.29 473.786 1355.9 Q470.73 1360.48 464.92 1360.48 Q459.11 1360.48 456.031 1355.9 Q452.976 1351.29 452.976 1342.56 Q452.976 1333.81 456.031 1329.23 Q459.11 1324.62 464.92 1324.62 Z\" fill=\"#000000\" fill-rule=\"evenodd\" fill-opacity=\"1\" /><path clip-path=\"url(#clip630)\" d=\"M 0 0 M456.957 1068.03 L464.596 1068.03 L464.596 1041.67 L456.286 1043.33 L456.286 1039.07 L464.55 1037.41 L469.226 1037.41 L469.226 1068.03 L476.865 1068.03 L476.865 1071.97 L456.957 1071.97 L456.957 1068.03 Z\" fill=\"#000000\" fill-rule=\"evenodd\" fill-opacity=\"1\" /><path clip-path=\"url(#clip630)\" d=\"M 0 0 M460.545 780.191 L476.865 780.191 L476.865 784.126 L454.92 784.126 L454.92 780.191 Q457.582 777.436 462.166 772.807 Q466.772 768.154 467.953 766.811 Q470.198 764.288 471.078 762.552 Q471.98 760.793 471.98 759.103 Q471.98 756.348 470.036 754.612 Q468.115 752.876 465.013 752.876 Q462.814 752.876 460.36 753.64 Q457.93 754.404 455.152 755.955 L455.152 751.233 Q457.976 750.098 460.43 749.52 Q462.883 748.941 464.92 748.941 Q470.291 748.941 473.485 751.626 Q476.679 754.311 476.679 758.802 Q476.679 760.932 475.869 762.853 Q475.082 764.751 472.976 767.344 Q472.397 768.015 469.295 771.233 Q466.193 774.427 460.545 780.191 Z\" fill=\"#000000\" fill-rule=\"evenodd\" fill-opacity=\"1\" /><path clip-path=\"url(#clip630)\" d=\"M 0 0 M469.735 477.651 Q473.092 478.369 474.967 480.637 Q476.865 482.906 476.865 486.239 Q476.865 491.355 473.346 494.156 Q469.828 496.957 463.346 496.957 Q461.17 496.957 458.855 496.517 Q456.564 496.1 454.11 495.244 L454.11 490.73 Q456.055 491.864 458.369 492.443 Q460.684 493.021 463.207 493.021 Q467.605 493.021 469.897 491.285 Q472.212 489.549 472.212 486.239 Q472.212 483.183 470.059 481.47 Q467.93 479.734 464.11 479.734 L460.082 479.734 L460.082 475.892 L464.295 475.892 Q467.744 475.892 469.573 474.526 Q471.402 473.137 471.402 470.545 Q471.402 467.883 469.504 466.471 Q467.629 465.035 464.11 465.035 Q462.189 465.035 459.99 465.452 Q457.791 465.869 455.152 466.748 L455.152 462.582 Q457.814 461.841 460.129 461.471 Q462.467 461.1 464.527 461.1 Q469.851 461.1 472.953 463.531 Q476.054 465.938 476.054 470.059 Q476.054 472.929 474.411 474.92 Q472.767 476.887 469.735 477.651 Z\" fill=\"#000000\" fill-rule=\"evenodd\" fill-opacity=\"1\" /><path clip-path=\"url(#clip630)\" d=\"M 0 0 M467.281 177.959 L455.476 196.407 L467.281 196.407 L467.281 177.959 M466.055 173.884 L471.934 173.884 L471.934 196.407 L476.865 196.407 L476.865 200.296 L471.934 200.296 L471.934 208.444 L467.281 208.444 L467.281 200.296 L451.68 200.296 L451.68 195.783 L466.055 173.884 Z\" fill=\"#000000\" fill-rule=\"evenodd\" fill-opacity=\"1\" /><circle clip-path=\"url(#clip632)\" cx=\"944.626\" cy=\"479.005\" r=\"14\" fill=\"#ff0000\" fill-rule=\"evenodd\" fill-opacity=\"1\" stroke=\"#000000\" stroke-opacity=\"1\" stroke-width=\"3.2\"/>\n",
       "<circle clip-path=\"url(#clip632)\" cx=\"1520.31\" cy=\"479.005\" r=\"14\" fill=\"#ff0000\" fill-rule=\"evenodd\" fill-opacity=\"1\" stroke=\"#000000\" stroke-opacity=\"1\" stroke-width=\"3.2\"/>\n",
       "<circle clip-path=\"url(#clip632)\" cx=\"1808.15\" cy=\"766.846\" r=\"14\" fill=\"#ff0000\" fill-rule=\"evenodd\" fill-opacity=\"1\" stroke=\"#000000\" stroke-opacity=\"1\" stroke-width=\"3.2\"/>\n",
       "<circle clip-path=\"url(#clip632)\" cx=\"656.785\" cy=\"1054.69\" r=\"14\" fill=\"#0000ff\" fill-rule=\"evenodd\" fill-opacity=\"1\" stroke=\"#000000\" stroke-opacity=\"1\" stroke-width=\"3.2\"/>\n",
       "<circle clip-path=\"url(#clip632)\" cx=\"944.626\" cy=\"766.846\" r=\"14\" fill=\"#0000ff\" fill-rule=\"evenodd\" fill-opacity=\"1\" stroke=\"#000000\" stroke-opacity=\"1\" stroke-width=\"3.2\"/>\n",
       "<circle clip-path=\"url(#clip632)\" cx=\"1232.47\" cy=\"1054.69\" r=\"14\" fill=\"#0000ff\" fill-rule=\"evenodd\" fill-opacity=\"1\" stroke=\"#000000\" stroke-opacity=\"1\" stroke-width=\"3.2\"/>\n",
       "<polyline clip-path=\"url(#clip632)\" style=\"stroke:#009af9; stroke-width:4; stroke-opacity:1; fill:none\" stroke-dasharray=\"16, 10\" points=\"\n",
       "  -782.419,-1535.88 -754.309,-1500.74 -494.391,-1175.85 -338.191,-980.596 -206.127,-815.515 -62.6673,-636.191 69.5896,-470.87 211.383,-293.628 375.664,-88.276 521.658,94.2165 \n",
       "  649.682,254.246 789.262,428.721 929.672,604.233 1084.91,798.284 1232.62,982.919 1386.2,1174.9 1515.49,1336.5 1673.33,1533.8 1821.7,1719.27 2059.41,2016.4 \n",
       "  2095.99,2062.13 \n",
       "  \"/>\n",
       "<polyline clip-path=\"url(#clip632)\" style=\"stroke:#e26f46; stroke-width:8; stroke-opacity:1; fill:none\" stroke-dasharray=\"32, 20\" points=\"\n",
       "  -782.419,-1571.86 -754.309,-1536.72 -494.391,-1211.83 -338.191,-1016.58 -206.127,-851.495 -62.6673,-672.171 69.5896,-506.85 211.383,-329.608 375.664,-124.256 521.658,58.2364 \n",
       "  649.682,218.266 789.262,392.741 929.672,568.253 1084.91,762.304 1232.62,946.939 1386.2,1138.92 1515.49,1300.52 1673.33,1497.82 1821.7,1683.29 2059.41,1980.42 \n",
       "  2095.99,2026.15 \n",
       "  \"/>\n",
       "<polyline clip-path=\"url(#clip632)\" style=\"stroke:#3da44d; stroke-width:12; stroke-opacity:1; fill:none\" stroke-dasharray=\"48, 30\" points=\"\n",
       "  -782.419,-1104.12 -754.309,-1076.01 -494.391,-816.091 -338.191,-659.892 -206.127,-527.827 -62.6673,-384.367 69.5896,-252.111 211.383,-110.317 375.664,53.9643 521.658,199.958 \n",
       "  649.682,327.982 789.262,467.562 929.672,607.972 1084.91,763.212 1232.62,910.92 1386.2,1064.5 1515.49,1193.79 1673.33,1351.63 1821.7,1500 2059.41,1737.71 \n",
       "  2095.99,1774.29 \n",
       "  \"/>\n",
       "<polyline clip-path=\"url(#clip632)\" style=\"stroke:#c271d2; stroke-width:16; stroke-opacity:1; fill:none\" stroke-dasharray=\"64, 40\" points=\"\n",
       "  -782.419,47.2441 -754.309,56.6141 -494.391,143.253 -338.191,195.32 -206.127,239.341 -62.6673,287.161 69.5896,331.247 211.383,378.511 375.664,433.272 521.658,481.937 \n",
       "  649.682,524.611 789.262,571.138 929.672,617.941 1084.91,669.688 1232.62,718.924 1386.2,770.118 1515.49,813.212 1673.33,865.825 1821.7,915.284 2059.41,994.519 \n",
       "  2095.99,1006.71 \n",
       "  \"/>\n",
       "</svg>\n"
      ]
     },
     "execution_count": 76,
     "metadata": {},
     "output_type": "execute_result"
    }
   ],
   "source": [
    "p=scatter(ratio = 1)\n",
    "xlims!(-0.5, 4.5)\n",
    "ylims!(-0.5, 4.5)\n",
    "\n",
    "scatter!([A1[1,1:3]], [A1[2, 1:3]], c=:red, leg = false)\n",
    "scatter!([A1[1,4:6]], [A1[2, 4:6]], c=:blue)\n",
    "for i = 1:4\n",
    "    a = ABC[1,i]\n",
    "    b = ABC[2,i]\n",
    "    c = ABC[3,i]\n",
    "    plot!(p, x -> (-c-a.*x)/b, c=i, \n",
    "        lw = i, #quanto mais grossa a linha, mais adiantada a iteração.\n",
    "        ls=:dash)\n",
    "end\n",
    "p"
   ]
  },
  {
   "cell_type": "markdown",
   "metadata": {},
   "source": []
  }
 ],
 "metadata": {
  "@webio": {
   "lastCommId": null,
   "lastKernelId": null
  },
  "kernelspec": {
   "display_name": "Julia 1.4.1",
   "language": "julia",
   "name": "julia-1.4"
  },
  "language_info": {
   "file_extension": ".jl",
   "mimetype": "application/julia",
   "name": "julia",
   "version": "1.4.1"
  }
 },
 "nbformat": 4,
 "nbformat_minor": 4
}
